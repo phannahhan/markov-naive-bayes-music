{
 "cells": [
  {
   "cell_type": "markdown",
   "id": "lonely-rebate",
   "metadata": {},
   "source": [
    "# NAIVE BAYES CLASSIFIER"
   ]
  },
  {
   "cell_type": "code",
   "execution_count": 1,
   "id": "approved-nirvana",
   "metadata": {},
   "outputs": [],
   "source": [
    "import mido # https://github.com/mido/mido\n",
    "import midi # https://github.com/vishnubob/python-midi\n",
    "import random\n",
    "import numpy as np\n",
    "import scipy as sp\n",
    "from collections import defaultdict, Counter\n",
    "import itertools\n",
    "import statistics as stats"
   ]
  },
  {
   "cell_type": "markdown",
   "id": "exempt-dance",
   "metadata": {},
   "source": [
    "## Functions"
   ]
  },
  {
   "cell_type": "code",
   "execution_count": 2,
   "id": "coastal-creation",
   "metadata": {},
   "outputs": [],
   "source": [
    "def midi_to_unigram(FILE_NAME, BASE_TICK, LOWEST_NOTE):\n",
    "    \"\"\"Returns an array of current states (notes) given a midi file, base_tick, and the lowest note\n",
    "    \"\"\"\n",
    "    # Initializations\n",
    "    current_state = 0;\n",
    "\n",
    "    # Open the MIDI file\n",
    "    pattern = midi.read_midifile( FILE_NAME );\n",
    "    \n",
    "    # Initialize list to store unigrams\n",
    "    current_states = []\n",
    "\n",
    "    # Read the file for note on and off events\n",
    "    for line in pattern:\n",
    "        for event in line:\n",
    "            if type(event) == midi.events.NoteOffEvent or type(event) == midi.events.NoteOnEvent:\n",
    "\n",
    "                # Write the state enough number of times\n",
    "                for x in range(0, int( round( float(event.tick) / float(BASE_TICK) ) ) ):\n",
    "                    current_states.append(current_state)\n",
    "                \n",
    "                if type(event) == midi.events.NoteOffEvent or event.get_velocity() <= 0:\n",
    "                    if event.get_pitch() == current_state + LOWEST_NOTE - 1:\n",
    "                        current_state = 0;\n",
    "                else:\n",
    "                    current_state = event.get_pitch() - LOWEST_NOTE + 1;\n",
    "    \n",
    "    return current_states"
   ]
  },
  {
   "cell_type": "code",
   "execution_count": 3,
   "id": "departmental-commons",
   "metadata": {},
   "outputs": [],
   "source": [
    "def remove_zeros(states, k):\n",
    "    \"\"\"Removes long pauses in the piece (only allows for 0 to appear k times consecutively)\n",
    "    \"\"\"\n",
    "    new_states = []\n",
    "    count = 0 # counts the number of consecutive 0's\n",
    "    \n",
    "    for s in states:\n",
    "        if s == 0: # if current state is a 0\n",
    "            count += 1\n",
    "            if count <= k:\n",
    "                new_states.append(s)\n",
    "        else:\n",
    "            count = 0 # reset counter\n",
    "            new_states.append(s)\n",
    "                \n",
    "    return new_states"
   ]
  },
  {
   "cell_type": "code",
   "execution_count": 4,
   "id": "minus-mattress",
   "metadata": {},
   "outputs": [],
   "source": [
    "def all_ngrams(vocabulary, n):\n",
    "    \"\"\"Returns a list of all `n`-long *tuples* of elements of the `vocabulary`.\n",
    "    \n",
    "    For instance,  \n",
    "        >>> all_ngrams([\"one\", \"two\"], 3)\n",
    "        [('one', 'one', 'one'),\n",
    "         ('one', 'one', 'two'),\n",
    "         ('one', 'two', 'one'),\n",
    "         ('one', 'two', 'two'),\n",
    "         ('two', 'one', 'one'),\n",
    "         ('two', 'one', 'two'),\n",
    "         ('two', 'two', 'one'),\n",
    "         ('two', 'two', 'two')]\n",
    "         \n",
    "    Order of returned list is not specified or guaranteed.\n",
    "    When `n`=0, return [()].\n",
    "    \"\"\"\n",
    "    return list(itertools.product(vocabulary, repeat=n))"
   ]
  },
  {
   "cell_type": "code",
   "execution_count": 5,
   "id": "convenient-courtesy",
   "metadata": {},
   "outputs": [],
   "source": [
    "def ngrams(notes_list, n):\n",
    "    \"\"\"Returns a list of all `n`-grams in a list of `notes`.\"\"\"\n",
    "    return [tuple(notes_list[i : i + n])\n",
    "            for i in range(0, len(notes_list) - n + 1)]"
   ]
  },
  {
   "cell_type": "code",
   "execution_count": 6,
   "id": "practical-portsmouth",
   "metadata": {},
   "outputs": [],
   "source": [
    "def ngram_counts(vocabulary, notes_list, n):\n",
    "    \"\"\"Returns a dictionary of counts of the `n`-grams in `notes_list`.\n",
    "    \n",
    "    The dictionary is structured with first index by (n-1)-gram context\n",
    "    and second index by the final target note.\n",
    "    \"\"\"\n",
    "    context_dict = defaultdict(lambda: defaultdict(int))\n",
    "    # zero all ngrams\n",
    "    for context in all_ngrams(vocabulary, n - 1):\n",
    "        for target in vocabulary:\n",
    "            context_dict[context][target] = 0\n",
    "    # add counts for attested ngrams\n",
    "    for ngram, count in Counter(ngrams(notes_list, n)).items():\n",
    "        context_dict[ngram[:-1]][ngram[-1]] = count\n",
    "    return context_dict"
   ]
  },
  {
   "cell_type": "code",
   "execution_count": 7,
   "id": "regular-telling",
   "metadata": {},
   "outputs": [],
   "source": [
    "def ngram_model(ngram_counts):\n",
    "    \"\"\"Returns an n-gram probability model calculated by normalizing the \n",
    "       provided `ngram-counts` dictionary\n",
    "    \"\"\"\n",
    "    ngram_probs = defaultdict(lambda: defaultdict(float))\n",
    "    for history in list(ngram_counts.keys()):\n",
    "        for next_note in list(ngram_counts[history].keys()):\n",
    "            try:\n",
    "                ngram_probs[history][next_note] = (ngram_counts[history][next_note])/(sum(ngram_counts[history].values()))\n",
    "            except:\n",
    "                ngram_probs[history][next_note] = 0.0\n",
    "    return ngram_probs"
   ]
  },
  {
   "cell_type": "code",
   "execution_count": 8,
   "id": "missing-wrestling",
   "metadata": {},
   "outputs": [],
   "source": [
    "def get_gram_counts(MIDI_FILE, n):\n",
    "    \"\"\"\n",
    "    Function takes in a midi file and returns the counts for the states\n",
    "    \"\"\"\n",
    "    # get necessary information, like lowest note, base tick, bpm\n",
    "    pattern = midi.read_midifile( MIDI_FILE );\n",
    "    \n",
    "    notes_list = []\n",
    "    ticks_list = [] \n",
    "    bpm_list = []\n",
    "    for line in pattern:\n",
    "        for event in line:\n",
    "            # get instrument\n",
    "            if type(event) == midi.events.ProgramChangeEvent:\n",
    "                INSTRUMENT = event.get_value()\n",
    "            \n",
    "            # get BPM\n",
    "            if type(event) == midi.events.SetTempoEvent:\n",
    "                bpm_list.append(int(event.get_bpm()))\n",
    "\n",
    "            if type(event) == midi.events.NoteOffEvent or type(event) == midi.events.NoteOnEvent:\n",
    "                notes_list.append(event.get_pitch())\n",
    "                ticks_list.append(event.tick)\n",
    "    \n",
    "    if not bpm_list:\n",
    "        BPM = 100\n",
    "    else:\n",
    "        BPM = stats.mode(bpm_list)\n",
    "    \n",
    "    notes = list(set(notes_list))\n",
    "    notes.sort()\n",
    "    ticks = list(set(ticks_list))\n",
    "    ticks.sort()\n",
    "    \n",
    "    # get number corresponding to lowest note in the piece\n",
    "#     LOWEST_NOTE = 0\n",
    "    LOWEST_NOTE = notes[0]\n",
    "    \n",
    "    # get lowest tick interval (interval all ticks can be evenly divided by)\n",
    "    if len(ticks) > 1:\n",
    "        BASE_TICK = ticks[1]\n",
    "    else:\n",
    "        BASE_TICK = ticks[0]\n",
    "    \n",
    "    # midi to unigram\n",
    "#     current_states = midi_to_unigram(MIDI_FILE, BASE_TICK, LOWEST_NOTE)\n",
    "    current_states = remove_zeros(midi_to_unigram(MIDI_FILE, BASE_TICK, LOWEST_NOTE), 2)\n",
    "\n",
    "    vocabulary = list(set(current_states))\n",
    "    gram_counts = ngram_counts(vocabulary, current_states, n)\n",
    "    \n",
    "    return gram_counts"
   ]
  },
  {
   "cell_type": "code",
   "execution_count": 9,
   "id": "indirect-offer",
   "metadata": {},
   "outputs": [],
   "source": [
    "def get_gram_counts_transpose(MIDI_FILE, n):\n",
    "    \"\"\"\n",
    "    Function takes in a midi file and returns the counts for the states\n",
    "    \"\"\"\n",
    "    # get necessary information, like lowest note, base tick, bpm\n",
    "    pattern = midi.read_midifile( MIDI_FILE );\n",
    "    \n",
    "    notes_list = []\n",
    "    ticks_list = [] \n",
    "    bpm_list = []\n",
    "    for line in pattern:\n",
    "        for event in line:\n",
    "            # get instrument\n",
    "            if type(event) == midi.events.ProgramChangeEvent:\n",
    "                INSTRUMENT = event.get_value()\n",
    "            \n",
    "            # get BPM\n",
    "            if type(event) == midi.events.SetTempoEvent:\n",
    "                bpm_list.append(int(event.get_bpm()))\n",
    "\n",
    "            if type(event) == midi.events.NoteOffEvent or type(event) == midi.events.NoteOnEvent:\n",
    "                notes_list.append(event.get_pitch() + 3)\n",
    "                ticks_list.append(event.tick)\n",
    "\n",
    "    if not bpm_list:\n",
    "        BPM = 100\n",
    "    else:\n",
    "        BPM = stats.mode(bpm_list)\n",
    "    \n",
    "    notes = list(set(notes_list))\n",
    "    notes.sort()\n",
    "    ticks = list(set(ticks_list))\n",
    "    ticks.sort()\n",
    "    \n",
    "    # get number corresponding to lowest note in the piece\n",
    "#     LOWEST_NOTE = 0\n",
    "    LOWEST_NOTE = notes[0]\n",
    "    \n",
    "    # get lowest tick interval (interval all ticks can be evenly divided by)\n",
    "    if len(ticks) > 1:\n",
    "        BASE_TICK = ticks[1]\n",
    "    else:\n",
    "        BASE_TICK = ticks[0]\n",
    "    \n",
    "    # midi to unigram\n",
    "#     current_states = midi_to_unigram(MIDI_FILE, BASE_TICK, LOWEST_NOTE)\n",
    "    current_states = remove_zeros(midi_to_unigram(MIDI_FILE, BASE_TICK, LOWEST_NOTE), 2)\n",
    "    \n",
    "    \n",
    "    vocabulary = list(set(current_states))\n",
    "    gram_counts = ngram_counts(vocabulary, current_states, n)\n",
    "    \n",
    "    return gram_counts"
   ]
  },
  {
   "cell_type": "markdown",
   "id": "increased-sauce",
   "metadata": {},
   "source": [
    "# NAIVE BAYES MODEL"
   ]
  },
  {
   "cell_type": "markdown",
   "id": "isolated-partner",
   "metadata": {},
   "source": [
    "![title](likelihood.png)"
   ]
  },
  {
   "cell_type": "markdown",
   "id": "residential-south",
   "metadata": {},
   "source": [
    "$L(w)$ is the likelihood of n-gram $w$ appearing in the corpus/training set $D_t$ (baroque_counts, romantic_counts)\n",
    "\n",
    "$n_w(D_t)$ is the number of times n-gram $w$ appears in the training set.\n",
    "\n",
    "$n_o(D_t)$ is the number of n-grams in the training set."
   ]
  },
  {
   "cell_type": "code",
   "execution_count": 10,
   "id": "lasting-toronto",
   "metadata": {},
   "outputs": [],
   "source": [
    "def calculate_likelihood(gram_counts, baroque_counts, romantic_counts):\n",
    "    \"\"\"\n",
    "    Input: Pass the gram counts (test data) and the corresponding baroque and romantic counts (train data).\n",
    "           When an unknown note transition appears, skip over it.\n",
    "    Output: Prediction of baroque or romantic\n",
    "    \"\"\"\n",
    "\n",
    "    # Log probability: smaller the magnitude, the more likely it is\n",
    "    log_p_b = 0 # log probability that it is baroque\n",
    "    log_p_r = 0 # log probability that it is romantic\n",
    "    \n",
    "    # Get the number of total counts\n",
    "    N_b = 0 # baroque training\n",
    "    for key in baroque_counts:\n",
    "        N_b += sum(baroque_counts[key].values())\n",
    "    N_r = 0 # romantic training\n",
    "    for key in romantic_counts:\n",
    "        N_r += sum(romantic_counts[key].values())\n",
    "\n",
    "    for key in gram_counts:\n",
    "        for state in gram_counts[key]:\n",
    "            if baroque_counts[key][state] != 0:\n",
    "                likelihood = baroque_counts[key][state]/ N_b\n",
    "                log_p_b += gram_counts[key][state] * np.log(likelihood)\n",
    "        for state in gram_counts[key]:\n",
    "            if romantic_counts[key][state] != 0:\n",
    "                likelihood = romantic_counts[key][state]/ N_r\n",
    "                log_p_r += gram_counts[key][state] * np.log(likelihood)\n",
    "\n",
    "#     print('log_p_b', log_p_b)\n",
    "#     print('log_p_r', log_p_r)\n",
    "    if abs(log_p_b) < abs(log_p_r):\n",
    "        print('Prediction: Piece is Baroque')\n",
    "        return 'B'\n",
    "    else:\n",
    "        print('Prediction: Piece is Romantic')\n",
    "        return 'R'\n"
   ]
  },
  {
   "cell_type": "markdown",
   "id": "mysterious-policy",
   "metadata": {},
   "source": [
    "![title](likelihood_smoothed.png)"
   ]
  },
  {
   "cell_type": "markdown",
   "id": "descending-jungle",
   "metadata": {},
   "source": [
    "$\\alpha$ is the smoothing constant.\n",
    "\n",
    "$|V|$ is the vocabulary size in the corpus."
   ]
  },
  {
   "cell_type": "code",
   "execution_count": 11,
   "id": "coastal-stream",
   "metadata": {},
   "outputs": [],
   "source": [
    "# Laplace smoothing\n",
    "def calculate_smoothed_likelihood(alpha, gram_counts, baroque_counts, romantic_counts):\n",
    "    \"\"\"\n",
    "    Input: Pass the gram counts (test data) and the corresponding baroque and romantic counts (train data).\n",
    "           Laplace smoothing has been implemented as a solution to dealing with unknown n-grams\n",
    "    Output: Prediction of baroque or romantic\n",
    "    \"\"\"\n",
    "\n",
    "    # Log probability: smaller the magnitude, the more likely it is\n",
    "    log_p_b = 0 # log probability that it is baroque\n",
    "    log_p_r = 0 # log probability that it is romantic\n",
    "    \n",
    "    # Get the number of total counts\n",
    "    N_b = 0 # baroque training\n",
    "    for key in baroque_counts:\n",
    "        N_b += sum(baroque_counts[key].values())\n",
    "    N_r = 0 # romantic training\n",
    "    for key in romantic_counts:\n",
    "        N_r += sum(romantic_counts[key].values())\n",
    "        \n",
    "    # Vocabulary size\n",
    "    V_b = len(baroque_counts.keys())\n",
    "    V_r = len(romantic_counts.keys())\n",
    "    \n",
    "\n",
    "    for key in gram_counts:\n",
    "        for state in gram_counts[key]:\n",
    "            likelihood = (baroque_counts[key][state] + alpha) / (N_b + alpha * V_b)\n",
    "            log_p_b += gram_counts[key][state] * np.log(likelihood)\n",
    "        for state in gram_counts[key]:\n",
    "            likelihood = (romantic_counts[key][state] + alpha) / (N_r + alpha * V_r)\n",
    "            log_p_r += gram_counts[key][state] * np.log(likelihood)\n",
    "\n",
    "#     print('log_p_b', log_p_b)\n",
    "#     print('log_p_r', log_p_r)\n",
    "    if abs(log_p_b) < abs(log_p_r):\n",
    "        print('Prediction: Piece is Baroque')\n",
    "        return 'B'\n",
    "    else:\n",
    "        print('Prediction: Piece is Romantic')\n",
    "        return 'R'"
   ]
  },
  {
   "cell_type": "markdown",
   "id": "curious-sperm",
   "metadata": {},
   "source": [
    "# LIKELIHOODS BASED ON TRAIN DATA"
   ]
  },
  {
   "cell_type": "markdown",
   "id": "defensive-peoples",
   "metadata": {},
   "source": [
    "## ATTEMPT 1: aggregate all note transitions for the training baroque pieces and romantic pieces"
   ]
  },
  {
   "cell_type": "code",
   "execution_count": 12,
   "id": "virgin-florence",
   "metadata": {},
   "outputs": [],
   "source": [
    "import os\n",
    "from os import listdir\n",
    "from os.path import isfile, join\n",
    "\n",
    "mypath_b = 'MIDI PERIOD CLASSIFICATION/Baroque/'\n",
    "b_files = [mypath_b+f for f in listdir(mypath_b) if (isfile(join(mypath_b, f))) and (f != '.DS_Store') and ('split' not in f)]\n",
    "\n",
    "mypath_r = 'MIDI PERIOD CLASSIFICATION/Romantic/'\n",
    "r_files = [mypath_r+f for f in listdir(mypath_r) if (isfile(join(mypath_r, f))) and (f != '.DS_Store') and ('split' not in f)]\n",
    "\n",
    "b_files.sort()\n",
    "r_files.sort()"
   ]
  },
  {
   "cell_type": "code",
   "execution_count": 13,
   "id": "fifth-principle",
   "metadata": {},
   "outputs": [],
   "source": [
    "from sklearn.model_selection import train_test_split\n",
    "\n",
    "b_train, b_test = train_test_split(b_files, test_size=0.4, shuffle = True, random_state = 114)\n",
    "\n",
    "r_train, r_test = train_test_split(r_files, test_size=0.4, shuffle = True, random_state = 114)"
   ]
  },
  {
   "cell_type": "code",
   "execution_count": 14,
   "id": "metric-surgery",
   "metadata": {},
   "outputs": [
    {
     "data": {
      "text/plain": [
       "28"
      ]
     },
     "execution_count": 14,
     "metadata": {},
     "output_type": "execute_result"
    }
   ],
   "source": [
    "# baseline model calculations\n",
    "len(b_test) + len(r_test)"
   ]
  },
  {
   "cell_type": "code",
   "execution_count": 15,
   "id": "separate-message",
   "metadata": {},
   "outputs": [
    {
     "name": "stdout",
     "output_type": "stream",
     "text": [
      "Probability that baseline model gets baroque right: 53.57%\n"
     ]
    }
   ],
   "source": [
    "print(f'Probability that baseline model gets baroque right: {len(b_test)/28 * 100:.2f}%')"
   ]
  },
  {
   "cell_type": "code",
   "execution_count": 16,
   "id": "practical-cambodia",
   "metadata": {},
   "outputs": [],
   "source": [
    "# train Baroque\n",
    "\n",
    "train_list_b = []\n",
    "\n",
    "for b_file in b_train:\n",
    "    train_list_b.append(get_gram_counts(b_file,2))"
   ]
  },
  {
   "cell_type": "code",
   "execution_count": 17,
   "id": "secret-probability",
   "metadata": {},
   "outputs": [],
   "source": [
    "# train Romantic\n",
    "\n",
    "train_list_r = []\n",
    "\n",
    "for r_file in r_train:\n",
    "    train_list_r.append(get_gram_counts(r_file,2))"
   ]
  },
  {
   "cell_type": "code",
   "execution_count": 18,
   "id": "alpine-responsibility",
   "metadata": {},
   "outputs": [],
   "source": [
    "for train_piece in train_list_b[1:]:\n",
    "    for key, value in train_piece.items():\n",
    "        for subkey, subvalue in value.items():\n",
    "            train_list_b[0][key][subkey] = subvalue + train_list_b[0][key][subkey]"
   ]
  },
  {
   "cell_type": "code",
   "execution_count": 19,
   "id": "celtic-classroom",
   "metadata": {},
   "outputs": [],
   "source": [
    "for train_piece in train_list_r[1:]:\n",
    "    for key, value in train_piece.items():\n",
    "        for subkey, subvalue in value.items():\n",
    "            train_list_r[0][key][subkey] = subvalue + train_list_r[0][key][subkey]"
   ]
  },
  {
   "cell_type": "code",
   "execution_count": 20,
   "id": "toxic-hayes",
   "metadata": {},
   "outputs": [
    {
     "data": {
      "text/plain": [
       "545239"
      ]
     },
     "execution_count": 20,
     "metadata": {},
     "output_type": "execute_result"
    }
   ],
   "source": [
    "# NUMBER OF NOTE TRANSITIONS FOR BAROQUE\n",
    "total = 0\n",
    "for k1 in train_list_b[0]:\n",
    "    for k2 in train_list_b[0][k1]:\n",
    "        total += train_list_b[0][k1][k2]\n",
    "    \n",
    "total"
   ]
  },
  {
   "cell_type": "code",
   "execution_count": 21,
   "id": "nominated-fourth",
   "metadata": {},
   "outputs": [
    {
     "data": {
      "text/plain": [
       "817277"
      ]
     },
     "execution_count": 21,
     "metadata": {},
     "output_type": "execute_result"
    }
   ],
   "source": [
    "# NUMBER OF NOTE TRANSITIONS FOR ROMANTIC\n",
    "total = 0\n",
    "for k1 in train_list_r[0]:\n",
    "    for k2 in train_list_r[0][k1]:\n",
    "        total += train_list_r[0][k1][k2]\n",
    "    \n",
    "total"
   ]
  },
  {
   "cell_type": "markdown",
   "id": "endangered-disposition",
   "metadata": {},
   "source": [
    "### Likelihood without smoothing"
   ]
  },
  {
   "cell_type": "code",
   "execution_count": 22,
   "id": "everyday-satellite",
   "metadata": {
    "scrolled": true
   },
   "outputs": [
    {
     "name": "stdout",
     "output_type": "stream",
     "text": [
      "Prediction: Piece is Baroque\n",
      "Prediction: Piece is Romantic\n",
      "Prediction: Piece is Romantic\n",
      "Prediction: Piece is Baroque\n",
      "Prediction: Piece is Baroque\n",
      "Prediction: Piece is Baroque\n",
      "Prediction: Piece is Baroque\n",
      "Prediction: Piece is Baroque\n",
      "Prediction: Piece is Baroque\n",
      "Prediction: Piece is Baroque\n",
      "Prediction: Piece is Baroque\n",
      "Prediction: Piece is Baroque\n",
      "Prediction: Piece is Baroque\n",
      "Prediction: Piece is Baroque\n",
      "Prediction: Piece is Baroque\n",
      "86.67% were predicted correctly\n",
      "13 15\n"
     ]
    }
   ],
   "source": [
    "correct = 0\n",
    "for b_file in b_test:\n",
    "    test = get_gram_counts(b_file, 2)\n",
    "    result = calculate_likelihood(test, train_list_b[0], train_list_r[0])\n",
    "    if result == 'B':\n",
    "        correct += 1\n",
    "        \n",
    "print(f'{correct/len(b_test)*100:.2f}% were predicted correctly')\n",
    "print(correct, len(b_test))"
   ]
  },
  {
   "cell_type": "code",
   "execution_count": 23,
   "id": "shaped-nudist",
   "metadata": {
    "scrolled": true
   },
   "outputs": [
    {
     "name": "stdout",
     "output_type": "stream",
     "text": [
      "Prediction: Piece is Baroque\n",
      "Prediction: Piece is Baroque\n",
      "Prediction: Piece is Baroque\n",
      "Prediction: Piece is Baroque\n",
      "Prediction: Piece is Baroque\n",
      "Prediction: Piece is Baroque\n",
      "Prediction: Piece is Baroque\n",
      "Prediction: Piece is Baroque\n",
      "Prediction: Piece is Romantic\n",
      "Prediction: Piece is Baroque\n",
      "Prediction: Piece is Baroque\n",
      "Prediction: Piece is Baroque\n",
      "Prediction: Piece is Baroque\n",
      "7.69% were predicted correctly\n",
      "1 13\n"
     ]
    }
   ],
   "source": [
    "correct = 0\n",
    "for r_file in r_test:\n",
    "    test = get_gram_counts(r_file, 2)\n",
    "    result = calculate_likelihood(test, train_list_b[0], train_list_r[0])\n",
    "    if result == 'R':\n",
    "        correct += 1\n",
    "        \n",
    "print(f'{correct/len(r_test)*100:.2f}% were predicted correctly')\n",
    "print(correct, len(r_test))"
   ]
  },
  {
   "cell_type": "code",
   "execution_count": 24,
   "id": "enabling-darwin",
   "metadata": {},
   "outputs": [
    {
     "name": "stdout",
     "output_type": "stream",
     "text": [
      "Overall Accuracy:  50.00%\n"
     ]
    }
   ],
   "source": [
    "print(f'Overall Accuracy: {(13+1)/(13+15)*100: .2f}%')"
   ]
  },
  {
   "cell_type": "markdown",
   "id": "touched-waters",
   "metadata": {},
   "source": [
    "## Likelihood with smoothing"
   ]
  },
  {
   "cell_type": "code",
   "execution_count": 25,
   "id": "hidden-flooring",
   "metadata": {
    "scrolled": true
   },
   "outputs": [
    {
     "name": "stdout",
     "output_type": "stream",
     "text": [
      "Prediction: Piece is Baroque\n",
      "Prediction: Piece is Baroque\n",
      "Prediction: Piece is Romantic\n",
      "Prediction: Piece is Baroque\n",
      "Prediction: Piece is Baroque\n",
      "Prediction: Piece is Baroque\n",
      "Prediction: Piece is Baroque\n",
      "Prediction: Piece is Baroque\n",
      "Prediction: Piece is Baroque\n",
      "Prediction: Piece is Baroque\n",
      "Prediction: Piece is Baroque\n",
      "Prediction: Piece is Baroque\n",
      "Prediction: Piece is Baroque\n",
      "Prediction: Piece is Baroque\n",
      "Prediction: Piece is Baroque\n",
      "93.33% were predicted correctly\n",
      "14 15\n"
     ]
    }
   ],
   "source": [
    "correct = 0\n",
    "for b_file in b_test:\n",
    "    test = get_gram_counts(b_file, 2)\n",
    "    result = calculate_smoothed_likelihood(1,test, train_list_b[0], train_list_r[0])\n",
    "    if result == 'B':\n",
    "        correct += 1\n",
    "        \n",
    "print(f'{correct/len(b_test)*100:.2f}% were predicted correctly')\n",
    "print(correct, len(b_test))"
   ]
  },
  {
   "cell_type": "code",
   "execution_count": 26,
   "id": "innocent-prayer",
   "metadata": {
    "scrolled": false
   },
   "outputs": [
    {
     "name": "stdout",
     "output_type": "stream",
     "text": [
      "Prediction: Piece is Romantic\n",
      "Prediction: Piece is Romantic\n",
      "Prediction: Piece is Baroque\n",
      "Prediction: Piece is Romantic\n",
      "Prediction: Piece is Romantic\n",
      "Prediction: Piece is Romantic\n",
      "Prediction: Piece is Romantic\n",
      "Prediction: Piece is Romantic\n",
      "Prediction: Piece is Romantic\n",
      "Prediction: Piece is Romantic\n",
      "Prediction: Piece is Romantic\n",
      "Prediction: Piece is Romantic\n",
      "Prediction: Piece is Romantic\n",
      "92.31% were predicted correctly\n",
      "12 13\n"
     ]
    }
   ],
   "source": [
    "correct = 0\n",
    "for r_file in r_test:\n",
    "    test = get_gram_counts(r_file, 2)\n",
    "    result = calculate_smoothed_likelihood(1,test, train_list_b[0], train_list_r[0])\n",
    "    if result == 'R':\n",
    "        correct += 1\n",
    "        \n",
    "print(f'{correct/len(r_test)*100:.2f}% were predicted correctly')\n",
    "print(correct, len(r_test))"
   ]
  },
  {
   "cell_type": "code",
   "execution_count": 27,
   "id": "beautiful-branch",
   "metadata": {},
   "outputs": [
    {
     "name": "stdout",
     "output_type": "stream",
     "text": [
      "Overall Accuracy:  92.86%\n"
     ]
    }
   ],
   "source": [
    "print(f'Overall Accuracy: {(14+12)/(15+13)*100: .2f}%')"
   ]
  },
  {
   "cell_type": "markdown",
   "id": "determined-finding",
   "metadata": {},
   "source": [
    "## ATTEMPT 2: Added weights such that each piece's note transitions are represented the same amount"
   ]
  },
  {
   "cell_type": "code",
   "execution_count": 28,
   "id": "representative-closing",
   "metadata": {},
   "outputs": [],
   "source": [
    "import os\n",
    "from os import listdir\n",
    "from os.path import isfile, join\n",
    "\n",
    "mypath_b = 'MIDI PERIOD CLASSIFICATION/Baroque/'\n",
    "b_files = [mypath_b+f for f in listdir(mypath_b) if (isfile(join(mypath_b, f))) and (f != '.DS_Store') and ('split' not in f)]\n",
    "\n",
    "mypath_r = 'MIDI PERIOD CLASSIFICATION/Romantic/'\n",
    "r_files = [mypath_r+f for f in listdir(mypath_r) if (isfile(join(mypath_r, f))) and (f != '.DS_Store') and ('split' not in f)]\n",
    "\n",
    "b_files.sort()\n",
    "r_files.sort()"
   ]
  },
  {
   "cell_type": "code",
   "execution_count": 29,
   "id": "complete-pizza",
   "metadata": {},
   "outputs": [],
   "source": [
    "from sklearn.model_selection import train_test_split\n",
    "\n",
    "b_train, b_test = train_test_split(b_files, test_size=0.4, shuffle = True, random_state = 114)\n",
    "\n",
    "r_train, r_test = train_test_split(r_files, test_size=0.4, shuffle = True, random_state = 114)"
   ]
  },
  {
   "cell_type": "code",
   "execution_count": 30,
   "id": "fiscal-bolivia",
   "metadata": {},
   "outputs": [],
   "source": [
    "# train Baroque\n",
    "\n",
    "train_list_b = []\n",
    "\n",
    "for b_file in b_train:\n",
    "    train_list_b.append(get_gram_counts(b_file,2))"
   ]
  },
  {
   "cell_type": "code",
   "execution_count": 31,
   "id": "nutritional-resistance",
   "metadata": {},
   "outputs": [],
   "source": [
    "# train Romantic\n",
    "\n",
    "train_list_r = []\n",
    "\n",
    "for r_file in r_train:\n",
    "    train_list_r.append(get_gram_counts(r_file,2))"
   ]
  },
  {
   "cell_type": "code",
   "execution_count": 32,
   "id": "driving-spectrum",
   "metadata": {},
   "outputs": [],
   "source": [
    "train_list_all = train_list_b + train_list_r"
   ]
  },
  {
   "cell_type": "code",
   "execution_count": 33,
   "id": "subtle-toddler",
   "metadata": {
    "scrolled": true
   },
   "outputs": [
    {
     "data": {
      "text/plain": [
       "array([0.00073156, 0.05543794, 0.03025441, 0.00172005, 0.05336111,\n",
       "       0.08467175, 0.00188188, 0.0080124 , 0.00123783, 0.05821532,\n",
       "       0.04098034, 0.00225667, 0.05543794, 0.00293037, 0.15686081,\n",
       "       0.00387727, 0.00110352, 0.00166289, 0.09199233, 0.04597222,\n",
       "       0.03177857, 0.00070151, 0.00227522, 0.00379954, 0.0012691 ,\n",
       "       0.11250017, 0.00373084, 0.01816759, 0.00329635, 0.00503751,\n",
       "       0.00456255, 0.00234357, 0.00195785, 0.02672901, 0.00028241,\n",
       "       0.02213349, 0.00589694, 0.0530725 , 0.00186672])"
      ]
     },
     "execution_count": 33,
     "metadata": {},
     "output_type": "execute_result"
    }
   ],
   "source": [
    "weights = []\n",
    "\n",
    "for count, train_piece in enumerate(train_list_all):\n",
    "    num_states = 0\n",
    "    for key, value in train_piece.items():\n",
    "        for subkey, subvalue in value.items():\n",
    "            num_states += subvalue\n",
    "    weights.append(1/num_states) # inverse of number of states\n",
    "    \n",
    "weights = np.array(weights)/sum(weights)\n",
    "weights"
   ]
  },
  {
   "cell_type": "code",
   "execution_count": 34,
   "id": "broke-winner",
   "metadata": {},
   "outputs": [],
   "source": [
    "for count, train_piece in enumerate(train_list_all):\n",
    "    for key, value in train_piece.items():\n",
    "        for subkey, subvalue in value.items():\n",
    "            train_piece[key][subkey] *= weights[count]"
   ]
  },
  {
   "cell_type": "code",
   "execution_count": 35,
   "id": "moving-wings",
   "metadata": {},
   "outputs": [],
   "source": [
    "train_list_b = train_list_all[:len(train_list_b)]\n",
    "\n",
    "train_list_r = train_list_all[-len(train_list_r):]"
   ]
  },
  {
   "cell_type": "code",
   "execution_count": 36,
   "id": "loaded-scottish",
   "metadata": {},
   "outputs": [],
   "source": [
    "for train_piece in train_list_b[1:]:\n",
    "    for key, value in train_piece.items():\n",
    "        for subkey, subvalue in value.items():\n",
    "            train_list_b[0][key][subkey] = subvalue + train_list_b[0][key][subkey]"
   ]
  },
  {
   "cell_type": "code",
   "execution_count": 37,
   "id": "atmospheric-valentine",
   "metadata": {},
   "outputs": [],
   "source": [
    "for train_piece in train_list_r[1:]:\n",
    "    for key, value in train_piece.items():\n",
    "        for subkey, subvalue in value.items():\n",
    "            train_list_r[0][key][subkey] = subvalue + train_list_r[0][key][subkey]"
   ]
  },
  {
   "cell_type": "code",
   "execution_count": 38,
   "id": "fundamental-control",
   "metadata": {},
   "outputs": [
    {
     "data": {
      "text/plain": [
       "1854.5653131541976"
      ]
     },
     "execution_count": 38,
     "metadata": {},
     "output_type": "execute_result"
    }
   ],
   "source": [
    "# NUMBER OF NOTE TRANSITIONS FOR BAROQUE\n",
    "total = 0\n",
    "for k1 in train_list_b[0]:\n",
    "    for k2 in train_list_b[0][k1]:\n",
    "        total += train_list_b[0][k1][k2]\n",
    "    \n",
    "total\n",
    "# higher number since there are 27 baroque pieces vs 23 romantic"
   ]
  },
  {
   "cell_type": "code",
   "execution_count": 39,
   "id": "single-tablet",
   "metadata": {},
   "outputs": [
    {
     "data": {
      "text/plain": [
       "1589.6274112750364"
      ]
     },
     "execution_count": 39,
     "metadata": {},
     "output_type": "execute_result"
    }
   ],
   "source": [
    "# NUMBER OF NOTE TRANSITIONS FOR ROMANTIC\n",
    "total = 0\n",
    "for k1 in train_list_r[0]:\n",
    "    for k2 in train_list_r[0][k1]:\n",
    "        total += train_list_r[0][k1][k2]\n",
    "    \n",
    "total"
   ]
  },
  {
   "cell_type": "markdown",
   "id": "covered-directory",
   "metadata": {},
   "source": [
    "## Likelihood with smoothing"
   ]
  },
  {
   "cell_type": "code",
   "execution_count": 40,
   "id": "genetic-overview",
   "metadata": {
    "scrolled": true
   },
   "outputs": [
    {
     "name": "stdout",
     "output_type": "stream",
     "text": [
      "Prediction: Piece is Baroque\n",
      "Prediction: Piece is Baroque\n",
      "Prediction: Piece is Baroque\n",
      "Prediction: Piece is Baroque\n",
      "Prediction: Piece is Baroque\n",
      "Prediction: Piece is Baroque\n",
      "Prediction: Piece is Baroque\n",
      "Prediction: Piece is Baroque\n",
      "Prediction: Piece is Baroque\n",
      "Prediction: Piece is Baroque\n",
      "Prediction: Piece is Baroque\n",
      "Prediction: Piece is Baroque\n",
      "Prediction: Piece is Baroque\n",
      "Prediction: Piece is Baroque\n",
      "Prediction: Piece is Baroque\n",
      "100.00% were predicted correctly\n",
      "15 15\n"
     ]
    }
   ],
   "source": [
    "correct = 0\n",
    "for b_file in b_test:\n",
    "    test = get_gram_counts(b_file, 2)\n",
    "    result = calculate_smoothed_likelihood(1,test, train_list_b[0], train_list_r[0])\n",
    "    if result == 'B':\n",
    "        correct += 1\n",
    "        \n",
    "print(f'{correct/len(b_test)*100:.2f}% were predicted correctly')\n",
    "print(correct, len(b_test))"
   ]
  },
  {
   "cell_type": "code",
   "execution_count": 41,
   "id": "authorized-slovenia",
   "metadata": {
    "scrolled": false
   },
   "outputs": [
    {
     "name": "stdout",
     "output_type": "stream",
     "text": [
      "Prediction: Piece is Romantic\n",
      "Prediction: Piece is Romantic\n",
      "Prediction: Piece is Baroque\n",
      "Prediction: Piece is Baroque\n",
      "Prediction: Piece is Baroque\n",
      "Prediction: Piece is Romantic\n",
      "Prediction: Piece is Romantic\n",
      "Prediction: Piece is Romantic\n",
      "Prediction: Piece is Baroque\n",
      "Prediction: Piece is Romantic\n",
      "Prediction: Piece is Baroque\n",
      "Prediction: Piece is Baroque\n",
      "Prediction: Piece is Romantic\n",
      "53.85% were predicted correctly\n",
      "7 13\n"
     ]
    }
   ],
   "source": [
    "correct = 0\n",
    "for r_file in r_test:\n",
    "    test = get_gram_counts(r_file, 2)\n",
    "    result = calculate_smoothed_likelihood(1,test, train_list_b[0], train_list_r[0])\n",
    "    if result == 'R':\n",
    "        correct += 1\n",
    "        \n",
    "print(f'{correct/len(r_test)*100:.2f}% were predicted correctly')\n",
    "print(correct, len(r_test))"
   ]
  },
  {
   "cell_type": "code",
   "execution_count": 42,
   "id": "binary-cursor",
   "metadata": {},
   "outputs": [
    {
     "name": "stdout",
     "output_type": "stream",
     "text": [
      "Overall Accuracy:  78.57%\n"
     ]
    }
   ],
   "source": [
    "print(f'Overall Accuracy: {(15+7)/(15+13)*100: .2f}%')"
   ]
  },
  {
   "cell_type": "markdown",
   "id": "hydraulic-azerbaijan",
   "metadata": {},
   "source": [
    "## ATTEMPT 3: Split pieces into segments of 2000 note transitions (attempt to expand training and test sets)"
   ]
  },
  {
   "cell_type": "code",
   "execution_count": 43,
   "id": "referenced-frame",
   "metadata": {},
   "outputs": [],
   "source": [
    "import os\n",
    "from os import listdir\n",
    "from os.path import isfile, join\n",
    "\n",
    "mypath_b = 'MIDI PERIOD CLASSIFICATION/Baroque/'\n",
    "b_files = [mypath_b+f for f in listdir(mypath_b) if (isfile(join(mypath_b, f))) and (f != '.DS_Store') and ('split' in f)]\n",
    "\n",
    "mypath_r = 'MIDI PERIOD CLASSIFICATION/Romantic/'\n",
    "r_files = [mypath_r+f for f in listdir(mypath_r) if (isfile(join(mypath_r, f))) and (f != '.DS_Store') and ('split' in f)]\n",
    "\n",
    "b_files.sort()\n",
    "r_files.sort()"
   ]
  },
  {
   "cell_type": "code",
   "execution_count": 44,
   "id": "executed-chester",
   "metadata": {},
   "outputs": [],
   "source": [
    "random.seed(100)\n",
    "random.shuffle(r_files)"
   ]
  },
  {
   "cell_type": "code",
   "execution_count": 45,
   "id": "spread-cycling",
   "metadata": {},
   "outputs": [],
   "source": [
    "# randomly select r_files such that we have the same number of romantic and baroque segments\n",
    "r_files = r_files[:len(b_files)]"
   ]
  },
  {
   "cell_type": "code",
   "execution_count": 46,
   "id": "silver-subsection",
   "metadata": {},
   "outputs": [
    {
     "data": {
      "text/plain": [
       "['MIDI PERIOD CLASSIFICATION/Romantic/trio2_solo_split28.mid',\n",
       " 'MIDI PERIOD CLASSIFICATION/Romantic/trio2_solo_split61.mid',\n",
       " 'MIDI PERIOD CLASSIFICATION/Romantic/trio1_solo_split11.mid',\n",
       " 'MIDI PERIOD CLASSIFICATION/Romantic/sonata105_solo_split14.mid',\n",
       " 'MIDI PERIOD CLASSIFICATION/Romantic/stringquart_op41_solo_split66.mid']"
      ]
     },
     "execution_count": 46,
     "metadata": {},
     "output_type": "execute_result"
    }
   ],
   "source": [
    "r_files[0:5]"
   ]
  },
  {
   "cell_type": "code",
   "execution_count": 47,
   "id": "moral-mortgage",
   "metadata": {},
   "outputs": [],
   "source": [
    "from sklearn.model_selection import train_test_split\n",
    "\n",
    "b_train, b_test = train_test_split(b_files, test_size=0.4, shuffle = True, random_state = 114)\n",
    "\n",
    "r_train, r_test = train_test_split(r_files, test_size=0.4, shuffle = True, random_state = 114)"
   ]
  },
  {
   "cell_type": "code",
   "execution_count": 48,
   "id": "fresh-outdoors",
   "metadata": {},
   "outputs": [],
   "source": [
    "# train Baroque\n",
    "\n",
    "train_list_b = []\n",
    "\n",
    "for b_file in b_train:\n",
    "    train_list_b.append(get_gram_counts(b_file,2))"
   ]
  },
  {
   "cell_type": "code",
   "execution_count": 49,
   "id": "municipal-hours",
   "metadata": {},
   "outputs": [],
   "source": [
    "# train Romantic\n",
    "\n",
    "train_list_r = []\n",
    "\n",
    "for r_file in r_train:\n",
    "    train_list_r.append(get_gram_counts(r_file,2))"
   ]
  },
  {
   "cell_type": "code",
   "execution_count": 50,
   "id": "dramatic-screening",
   "metadata": {},
   "outputs": [],
   "source": [
    "for train_piece in train_list_b[1:]:\n",
    "    for key, value in train_piece.items():\n",
    "        for subkey, subvalue in value.items():\n",
    "            train_list_b[0][key][subkey] = subvalue + train_list_b[0][key][subkey]"
   ]
  },
  {
   "cell_type": "code",
   "execution_count": 51,
   "id": "exotic-suicide",
   "metadata": {},
   "outputs": [],
   "source": [
    "for train_piece in train_list_r[1:]:\n",
    "    for key, value in train_piece.items():\n",
    "        for subkey, subvalue in value.items():\n",
    "            train_list_r[0][key][subkey] = subvalue + train_list_r[0][key][subkey]"
   ]
  },
  {
   "cell_type": "code",
   "execution_count": 52,
   "id": "future-insurance",
   "metadata": {},
   "outputs": [
    {
     "data": {
      "text/plain": [
       "292702"
      ]
     },
     "execution_count": 52,
     "metadata": {},
     "output_type": "execute_result"
    }
   ],
   "source": [
    "# NUMBER OF NOTE TRANSITIONS FOR BAROQUE\n",
    "total = 0\n",
    "for k1 in train_list_b[0]:\n",
    "    for k2 in train_list_b[0][k1]:\n",
    "        total += train_list_b[0][k1][k2]\n",
    "    \n",
    "total\n",
    "# higher number since there are 27 baroque pieces vs 23 romantic"
   ]
  },
  {
   "cell_type": "code",
   "execution_count": 53,
   "id": "brave-ideal",
   "metadata": {},
   "outputs": [
    {
     "data": {
      "text/plain": [
       "383076"
      ]
     },
     "execution_count": 53,
     "metadata": {},
     "output_type": "execute_result"
    }
   ],
   "source": [
    "# NUMBER OF NOTE TRANSITIONS FOR ROMANTIC\n",
    "total = 0\n",
    "for k1 in train_list_r[0]:\n",
    "    for k2 in train_list_r[0][k1]:\n",
    "        total += train_list_r[0][k1][k2]\n",
    "    \n",
    "total"
   ]
  },
  {
   "cell_type": "markdown",
   "id": "activated-verification",
   "metadata": {},
   "source": [
    "## Likelihood with smoothing"
   ]
  },
  {
   "cell_type": "code",
   "execution_count": 54,
   "id": "geological-understanding",
   "metadata": {
    "scrolled": true
   },
   "outputs": [
    {
     "name": "stdout",
     "output_type": "stream",
     "text": [
      "Prediction: Piece is Baroque\n",
      "Prediction: Piece is Baroque\n",
      "Prediction: Piece is Baroque\n",
      "Prediction: Piece is Baroque\n",
      "Prediction: Piece is Romantic\n",
      "Prediction: Piece is Romantic\n",
      "Prediction: Piece is Baroque\n",
      "Prediction: Piece is Baroque\n",
      "Prediction: Piece is Baroque\n",
      "Prediction: Piece is Baroque\n",
      "Prediction: Piece is Baroque\n",
      "Prediction: Piece is Baroque\n",
      "Prediction: Piece is Romantic\n",
      "Prediction: Piece is Baroque\n",
      "Prediction: Piece is Baroque\n",
      "Prediction: Piece is Baroque\n",
      "Prediction: Piece is Baroque\n",
      "Prediction: Piece is Baroque\n",
      "Prediction: Piece is Baroque\n",
      "Prediction: Piece is Baroque\n",
      "Prediction: Piece is Romantic\n",
      "Prediction: Piece is Baroque\n",
      "Prediction: Piece is Baroque\n",
      "Prediction: Piece is Baroque\n",
      "Prediction: Piece is Baroque\n",
      "Prediction: Piece is Baroque\n",
      "Prediction: Piece is Baroque\n",
      "Prediction: Piece is Baroque\n",
      "Prediction: Piece is Baroque\n",
      "Prediction: Piece is Baroque\n",
      "Prediction: Piece is Baroque\n",
      "Prediction: Piece is Baroque\n",
      "Prediction: Piece is Baroque\n",
      "Prediction: Piece is Baroque\n",
      "Prediction: Piece is Baroque\n",
      "Prediction: Piece is Romantic\n",
      "Prediction: Piece is Romantic\n",
      "Prediction: Piece is Baroque\n",
      "Prediction: Piece is Romantic\n",
      "Prediction: Piece is Romantic\n",
      "Prediction: Piece is Baroque\n",
      "Prediction: Piece is Baroque\n",
      "Prediction: Piece is Romantic\n",
      "Prediction: Piece is Baroque\n",
      "Prediction: Piece is Baroque\n",
      "Prediction: Piece is Baroque\n",
      "Prediction: Piece is Baroque\n",
      "Prediction: Piece is Romantic\n",
      "Prediction: Piece is Romantic\n",
      "Prediction: Piece is Romantic\n",
      "Prediction: Piece is Baroque\n",
      "Prediction: Piece is Romantic\n",
      "Prediction: Piece is Baroque\n",
      "Prediction: Piece is Baroque\n",
      "Prediction: Piece is Romantic\n",
      "Prediction: Piece is Baroque\n",
      "Prediction: Piece is Romantic\n",
      "Prediction: Piece is Baroque\n",
      "Prediction: Piece is Baroque\n",
      "Prediction: Piece is Baroque\n",
      "Prediction: Piece is Romantic\n",
      "Prediction: Piece is Baroque\n",
      "Prediction: Piece is Romantic\n",
      "Prediction: Piece is Baroque\n",
      "Prediction: Piece is Romantic\n",
      "Prediction: Piece is Baroque\n",
      "Prediction: Piece is Baroque\n",
      "Prediction: Piece is Baroque\n",
      "Prediction: Piece is Baroque\n",
      "Prediction: Piece is Baroque\n",
      "Prediction: Piece is Baroque\n",
      "Prediction: Piece is Romantic\n",
      "Prediction: Piece is Baroque\n",
      "Prediction: Piece is Baroque\n",
      "Prediction: Piece is Romantic\n",
      "Prediction: Piece is Baroque\n",
      "Prediction: Piece is Baroque\n",
      "Prediction: Piece is Baroque\n",
      "Prediction: Piece is Romantic\n",
      "Prediction: Piece is Baroque\n",
      "Prediction: Piece is Baroque\n",
      "Prediction: Piece is Baroque\n",
      "Prediction: Piece is Romantic\n",
      "Prediction: Piece is Romantic\n",
      "Prediction: Piece is Baroque\n",
      "Prediction: Piece is Baroque\n",
      "Prediction: Piece is Baroque\n",
      "Prediction: Piece is Baroque\n",
      "Prediction: Piece is Baroque\n",
      "Prediction: Piece is Romantic\n",
      "Prediction: Piece is Baroque\n",
      "Prediction: Piece is Baroque\n",
      "Prediction: Piece is Romantic\n",
      "Prediction: Piece is Baroque\n",
      "Prediction: Piece is Baroque\n",
      "Prediction: Piece is Baroque\n",
      "Prediction: Piece is Baroque\n",
      "Prediction: Piece is Baroque\n",
      "Prediction: Piece is Baroque\n",
      "Prediction: Piece is Baroque\n",
      "Prediction: Piece is Baroque\n",
      "Prediction: Piece is Baroque\n",
      "Prediction: Piece is Baroque\n",
      "Prediction: Piece is Baroque\n",
      "Prediction: Piece is Romantic\n",
      "Prediction: Piece is Baroque\n",
      "Prediction: Piece is Romantic\n",
      "Prediction: Piece is Baroque\n",
      "Prediction: Piece is Baroque\n",
      "Prediction: Piece is Romantic\n",
      "Prediction: Piece is Baroque\n",
      "Prediction: Piece is Baroque\n",
      "Prediction: Piece is Baroque\n",
      "Prediction: Piece is Romantic\n",
      "Prediction: Piece is Baroque\n",
      "Prediction: Piece is Baroque\n",
      "Prediction: Piece is Baroque\n",
      "Prediction: Piece is Romantic\n",
      "Prediction: Piece is Baroque\n",
      "Prediction: Piece is Baroque\n",
      "Prediction: Piece is Baroque\n",
      "Prediction: Piece is Romantic\n",
      "Prediction: Piece is Baroque\n",
      "Prediction: Piece is Baroque\n",
      "Prediction: Piece is Baroque\n",
      "Prediction: Piece is Romantic\n",
      "Prediction: Piece is Baroque\n",
      "Prediction: Piece is Baroque\n",
      "Prediction: Piece is Baroque\n",
      "Prediction: Piece is Romantic\n",
      "Prediction: Piece is Romantic\n",
      "Prediction: Piece is Romantic\n",
      "Prediction: Piece is Baroque\n",
      "Prediction: Piece is Baroque\n",
      "Prediction: Piece is Baroque\n",
      "Prediction: Piece is Baroque\n",
      "Prediction: Piece is Baroque\n",
      "Prediction: Piece is Baroque\n",
      "Prediction: Piece is Romantic\n",
      "Prediction: Piece is Baroque\n"
     ]
    }
   ],
   "source": [
    "correct = 0\n",
    "for b_file in b_test:\n",
    "    test = get_gram_counts(b_file, 2)\n",
    "    result = calculate_smoothed_likelihood(1,test, train_list_b[0], train_list_r[0])\n",
    "    if result == 'B':\n",
    "        correct += 1\n",
    "    "
   ]
  },
  {
   "cell_type": "code",
   "execution_count": 55,
   "id": "improved-graduation",
   "metadata": {},
   "outputs": [
    {
     "name": "stdout",
     "output_type": "stream",
     "text": [
      "74.29% were predicted correctly\n",
      "104 140\n"
     ]
    }
   ],
   "source": [
    "print(f'{correct/len(b_test)*100:.2f}% were predicted correctly')\n",
    "print(correct, len(b_test))"
   ]
  },
  {
   "cell_type": "code",
   "execution_count": 56,
   "id": "several-crisis",
   "metadata": {
    "scrolled": true
   },
   "outputs": [
    {
     "name": "stdout",
     "output_type": "stream",
     "text": [
      "Prediction: Piece is Baroque\n",
      "Prediction: Piece is Romantic\n",
      "Prediction: Piece is Baroque\n",
      "Prediction: Piece is Romantic\n",
      "Prediction: Piece is Romantic\n",
      "Prediction: Piece is Baroque\n",
      "Prediction: Piece is Romantic\n",
      "Prediction: Piece is Baroque\n",
      "Prediction: Piece is Romantic\n",
      "Prediction: Piece is Baroque\n",
      "Prediction: Piece is Baroque\n",
      "Prediction: Piece is Baroque\n",
      "Prediction: Piece is Baroque\n",
      "Prediction: Piece is Romantic\n",
      "Prediction: Piece is Baroque\n",
      "Prediction: Piece is Romantic\n",
      "Prediction: Piece is Baroque\n",
      "Prediction: Piece is Romantic\n",
      "Prediction: Piece is Baroque\n",
      "Prediction: Piece is Romantic\n",
      "Prediction: Piece is Romantic\n",
      "Prediction: Piece is Baroque\n",
      "Prediction: Piece is Romantic\n",
      "Prediction: Piece is Romantic\n",
      "Prediction: Piece is Romantic\n",
      "Prediction: Piece is Baroque\n",
      "Prediction: Piece is Baroque\n",
      "Prediction: Piece is Baroque\n",
      "Prediction: Piece is Baroque\n",
      "Prediction: Piece is Romantic\n",
      "Prediction: Piece is Baroque\n",
      "Prediction: Piece is Baroque\n",
      "Prediction: Piece is Baroque\n",
      "Prediction: Piece is Baroque\n",
      "Prediction: Piece is Romantic\n",
      "Prediction: Piece is Romantic\n",
      "Prediction: Piece is Baroque\n",
      "Prediction: Piece is Baroque\n",
      "Prediction: Piece is Romantic\n",
      "Prediction: Piece is Baroque\n",
      "Prediction: Piece is Baroque\n",
      "Prediction: Piece is Baroque\n",
      "Prediction: Piece is Romantic\n",
      "Prediction: Piece is Romantic\n",
      "Prediction: Piece is Baroque\n",
      "Prediction: Piece is Baroque\n",
      "Prediction: Piece is Baroque\n",
      "Prediction: Piece is Romantic\n",
      "Prediction: Piece is Baroque\n",
      "Prediction: Piece is Romantic\n",
      "Prediction: Piece is Romantic\n",
      "Prediction: Piece is Romantic\n",
      "Prediction: Piece is Romantic\n",
      "Prediction: Piece is Baroque\n",
      "Prediction: Piece is Romantic\n",
      "Prediction: Piece is Romantic\n",
      "Prediction: Piece is Romantic\n",
      "Prediction: Piece is Romantic\n",
      "Prediction: Piece is Baroque\n",
      "Prediction: Piece is Baroque\n",
      "Prediction: Piece is Romantic\n",
      "Prediction: Piece is Romantic\n",
      "Prediction: Piece is Romantic\n",
      "Prediction: Piece is Romantic\n",
      "Prediction: Piece is Baroque\n",
      "Prediction: Piece is Romantic\n",
      "Prediction: Piece is Romantic\n",
      "Prediction: Piece is Romantic\n",
      "Prediction: Piece is Romantic\n",
      "Prediction: Piece is Romantic\n",
      "Prediction: Piece is Romantic\n",
      "Prediction: Piece is Romantic\n",
      "Prediction: Piece is Romantic\n",
      "Prediction: Piece is Baroque\n",
      "Prediction: Piece is Baroque\n",
      "Prediction: Piece is Romantic\n",
      "Prediction: Piece is Romantic\n",
      "Prediction: Piece is Baroque\n",
      "Prediction: Piece is Romantic\n",
      "Prediction: Piece is Baroque\n",
      "Prediction: Piece is Baroque\n",
      "Prediction: Piece is Romantic\n",
      "Prediction: Piece is Baroque\n",
      "Prediction: Piece is Baroque\n",
      "Prediction: Piece is Baroque\n",
      "Prediction: Piece is Romantic\n",
      "Prediction: Piece is Romantic\n",
      "Prediction: Piece is Romantic\n",
      "Prediction: Piece is Romantic\n",
      "Prediction: Piece is Baroque\n",
      "Prediction: Piece is Baroque\n",
      "Prediction: Piece is Romantic\n",
      "Prediction: Piece is Romantic\n",
      "Prediction: Piece is Romantic\n",
      "Prediction: Piece is Romantic\n",
      "Prediction: Piece is Romantic\n",
      "Prediction: Piece is Baroque\n",
      "Prediction: Piece is Romantic\n",
      "Prediction: Piece is Romantic\n",
      "Prediction: Piece is Romantic\n",
      "Prediction: Piece is Romantic\n",
      "Prediction: Piece is Romantic\n",
      "Prediction: Piece is Romantic\n",
      "Prediction: Piece is Baroque\n",
      "Prediction: Piece is Romantic\n",
      "Prediction: Piece is Romantic\n",
      "Prediction: Piece is Romantic\n",
      "Prediction: Piece is Romantic\n",
      "Prediction: Piece is Romantic\n",
      "Prediction: Piece is Baroque\n",
      "Prediction: Piece is Romantic\n",
      "Prediction: Piece is Romantic\n",
      "Prediction: Piece is Romantic\n",
      "Prediction: Piece is Baroque\n",
      "Prediction: Piece is Romantic\n",
      "Prediction: Piece is Romantic\n",
      "Prediction: Piece is Baroque\n",
      "Prediction: Piece is Romantic\n",
      "Prediction: Piece is Baroque\n",
      "Prediction: Piece is Romantic\n",
      "Prediction: Piece is Baroque\n",
      "Prediction: Piece is Romantic\n",
      "Prediction: Piece is Romantic\n",
      "Prediction: Piece is Romantic\n",
      "Prediction: Piece is Romantic\n",
      "Prediction: Piece is Romantic\n",
      "Prediction: Piece is Romantic\n",
      "Prediction: Piece is Baroque\n",
      "Prediction: Piece is Romantic\n",
      "Prediction: Piece is Baroque\n",
      "Prediction: Piece is Baroque\n",
      "Prediction: Piece is Romantic\n",
      "Prediction: Piece is Romantic\n",
      "Prediction: Piece is Baroque\n",
      "Prediction: Piece is Romantic\n",
      "Prediction: Piece is Romantic\n",
      "Prediction: Piece is Baroque\n",
      "Prediction: Piece is Baroque\n",
      "Prediction: Piece is Romantic\n",
      "Prediction: Piece is Romantic\n"
     ]
    }
   ],
   "source": [
    "correct = 0\n",
    "for r_file in r_test:\n",
    "    test = get_gram_counts(r_file, 2)\n",
    "    result = calculate_smoothed_likelihood(1,test, train_list_b[0], train_list_r[0])\n",
    "    if result == 'R':\n",
    "        correct += 1\n",
    "    "
   ]
  },
  {
   "cell_type": "code",
   "execution_count": 57,
   "id": "celtic-metallic",
   "metadata": {},
   "outputs": [
    {
     "name": "stdout",
     "output_type": "stream",
     "text": [
      "60.00% were predicted correctly\n",
      "84 140\n"
     ]
    }
   ],
   "source": [
    "print(f'{correct/len(r_test)*100:.2f}% were predicted correctly')\n",
    "print(correct, len(r_test))"
   ]
  },
  {
   "cell_type": "code",
   "execution_count": 58,
   "id": "dynamic-evidence",
   "metadata": {},
   "outputs": [
    {
     "name": "stdout",
     "output_type": "stream",
     "text": [
      "Overall Accuracy:  67.14%\n"
     ]
    }
   ],
   "source": [
    "print(f'Overall Accuracy: {(104+84)/(280)*100: .2f}%')"
   ]
  },
  {
   "cell_type": "markdown",
   "id": "criminal-surveillance",
   "metadata": {},
   "source": [
    "## ATTEMPT 4: Combine ATTEMPT 2 and ATTEMPT 3's method"
   ]
  },
  {
   "cell_type": "code",
   "execution_count": 59,
   "id": "extraordinary-replica",
   "metadata": {},
   "outputs": [],
   "source": [
    "import os\n",
    "from os import listdir\n",
    "from os.path import isfile, join\n",
    "\n",
    "mypath_b = 'MIDI PERIOD CLASSIFICATION/Baroque/'\n",
    "b_files = [mypath_b+f for f in listdir(mypath_b) if (isfile(join(mypath_b, f))) and (f != '.DS_Store') and ('split' in f)]\n",
    "\n",
    "mypath_r = 'MIDI PERIOD CLASSIFICATION/Romantic/'\n",
    "r_files = [mypath_r+f for f in listdir(mypath_r) if (isfile(join(mypath_r, f))) and (f != '.DS_Store') and ('split' in f)]\n",
    "\n",
    "b_files.sort()\n",
    "r_files.sort()"
   ]
  },
  {
   "cell_type": "code",
   "execution_count": 60,
   "id": "constitutional-courage",
   "metadata": {},
   "outputs": [],
   "source": [
    "random.seed(100)\n",
    "random.shuffle(r_files)"
   ]
  },
  {
   "cell_type": "code",
   "execution_count": 61,
   "id": "hydraulic-upgrade",
   "metadata": {},
   "outputs": [],
   "source": [
    "# randomly select r_files such that we have the same number of romantic and baroque segments\n",
    "r_files = r_files[:len(b_files)]"
   ]
  },
  {
   "cell_type": "code",
   "execution_count": 62,
   "id": "bottom-johnson",
   "metadata": {},
   "outputs": [
    {
     "data": {
      "text/plain": [
       "['MIDI PERIOD CLASSIFICATION/Romantic/trio2_solo_split28.mid',\n",
       " 'MIDI PERIOD CLASSIFICATION/Romantic/trio2_solo_split61.mid',\n",
       " 'MIDI PERIOD CLASSIFICATION/Romantic/trio1_solo_split11.mid',\n",
       " 'MIDI PERIOD CLASSIFICATION/Romantic/sonata105_solo_split14.mid',\n",
       " 'MIDI PERIOD CLASSIFICATION/Romantic/stringquart_op41_solo_split66.mid']"
      ]
     },
     "execution_count": 62,
     "metadata": {},
     "output_type": "execute_result"
    }
   ],
   "source": [
    "r_files[0:5]"
   ]
  },
  {
   "cell_type": "code",
   "execution_count": 63,
   "id": "convertible-divide",
   "metadata": {},
   "outputs": [],
   "source": [
    "from sklearn.model_selection import train_test_split\n",
    "\n",
    "b_train, b_test = train_test_split(b_files, test_size=0.4, shuffle = True, random_state = 114)\n",
    "\n",
    "r_train, r_test = train_test_split(r_files, test_size=0.4, shuffle = True, random_state = 114)"
   ]
  },
  {
   "cell_type": "code",
   "execution_count": 64,
   "id": "appointed-layout",
   "metadata": {},
   "outputs": [],
   "source": [
    "# train Baroque\n",
    "\n",
    "train_list_b = []\n",
    "\n",
    "for b_file in b_train:\n",
    "    train_list_b.append(get_gram_counts(b_file,2))"
   ]
  },
  {
   "cell_type": "code",
   "execution_count": 65,
   "id": "cardiac-serve",
   "metadata": {},
   "outputs": [],
   "source": [
    "# train Romantic\n",
    "\n",
    "train_list_r = []\n",
    "\n",
    "for r_file in r_train:\n",
    "    train_list_r.append(get_gram_counts(r_file,2))"
   ]
  },
  {
   "cell_type": "code",
   "execution_count": 66,
   "id": "former-drawing",
   "metadata": {},
   "outputs": [],
   "source": [
    "train_list_all = train_list_b + train_list_r"
   ]
  },
  {
   "cell_type": "code",
   "execution_count": 67,
   "id": "quality-telephone",
   "metadata": {
    "scrolled": true
   },
   "outputs": [
    {
     "data": {
      "text/plain": [
       "array([0.00116965, 0.00096544, 0.00199551, 0.00197077, 0.00193872,\n",
       "       0.00096446, 0.00216048, 0.0009572 , 0.11221791, 0.00216539,\n",
       "       0.00103567, 0.00196874, 0.00100089, 0.00190961, 0.00097233,\n",
       "       0.00099567, 0.00195662, 0.00096154, 0.00096106, 0.00199134,\n",
       "       0.00095529, 0.00317422, 0.00097631, 0.00115269, 0.00378513,\n",
       "       0.00191153, 0.00095816, 0.00096058, 0.00248076, 0.00095672,\n",
       "       0.00125755, 0.00095481, 0.00193676, 0.00097282, 0.00095576,\n",
       "       0.00197485, 0.00098234, 0.00192503, 0.00095865, 0.00096203,\n",
       "       0.00195462, 0.00098032, 0.00100405, 0.00193676, 0.0009572 ,\n",
       "       0.00098133, 0.00180654, 0.00298079, 0.00195462, 0.00106338,\n",
       "       0.00191153, 0.00292145, 0.00211967, 0.00096106, 0.00192309,\n",
       "       0.00192892, 0.00095961, 0.00204033, 0.1004055 , 0.00218023,\n",
       "       0.00194664, 0.00204033, 0.00095576, 0.00096058, 0.00207585,\n",
       "       0.00095576, 0.00195462, 0.00201873, 0.00193479, 0.00095529,\n",
       "       0.00096397, 0.00095576, 0.000963  , 0.00095672, 0.00192309,\n",
       "       0.00096642, 0.00210796, 0.0009572 , 0.00096009, 0.0009572 ,\n",
       "       0.00097531, 0.00193479, 0.00097282, 0.00095672, 0.00095768,\n",
       "       0.00193676, 0.00095576, 0.00205572, 0.01616699, 0.00196266,\n",
       "       0.00307199, 0.00095481, 0.00381541, 0.00238463, 0.00096251,\n",
       "       0.0020535 , 0.00095481, 0.00355915, 0.00196064, 0.00192892,\n",
       "       0.00191344, 0.00096251, 0.00095576, 0.00100353, 0.00195462,\n",
       "       0.00095576, 0.00331775, 0.00235519, 0.0009674 , 0.00114922,\n",
       "       0.00095481, 0.00096887, 0.00199551, 0.00287305, 0.00202516,\n",
       "       0.00234074, 0.00195261, 0.0029715 , 0.00095961, 0.00095913,\n",
       "       0.00095481, 0.00095672, 0.07948769, 0.00095576, 0.00197077,\n",
       "       0.00193872, 0.00193676, 0.00193479, 0.00193087, 0.00096838,\n",
       "       0.00198926, 0.00191537, 0.00193872, 0.00200389, 0.00197895,\n",
       "       0.00097631, 0.00098488, 0.00095768, 0.00096058, 0.0023465 ,\n",
       "       0.00205793, 0.00311208, 0.00192309, 0.00096058, 0.00097035,\n",
       "       0.00096446, 0.00197485, 0.00191537, 0.00097183, 0.00182906,\n",
       "       0.00283885, 0.00100937, 0.00197077, 0.00095624, 0.00097233,\n",
       "       0.00195462, 0.00095768, 0.00156626, 0.0019769 , 0.00096251,\n",
       "       0.00297614, 0.00098845, 0.00123636, 0.00202302, 0.00311208,\n",
       "       0.00096397, 0.00096397, 0.00097233, 0.00095481, 0.00378513,\n",
       "       0.00095576, 0.00298079, 0.00096691, 0.00199551, 0.00191729,\n",
       "       0.00095576, 0.00191153, 0.001024  , 0.00198719, 0.00095961,\n",
       "       0.00194465, 0.00099308, 0.00095576, 0.00119755, 0.00191344,\n",
       "       0.00099256, 0.00099671, 0.00191922, 0.00096838, 0.00231237,\n",
       "       0.002101  , 0.00195662, 0.00096058, 0.00102235, 0.01603113,\n",
       "       0.00098437, 0.00195462, 0.00194267, 0.0010505 , 0.0022765 ,\n",
       "       0.00196064, 0.00095576, 0.00095529, 0.001981  , 0.00199969,\n",
       "       0.00095672, 0.00096691, 0.00199969, 0.00098234, 0.00214832,\n",
       "       0.00097781, 0.00105866, 0.00095865, 0.00098947, 0.00096887,\n",
       "       0.00102565, 0.00101258, 0.00096349, 0.00098845, 0.00096495,\n",
       "       0.00101366, 0.00095672, 0.00287305, 0.00102235, 0.00096691,\n",
       "       0.00096154, 0.00095672, 0.00097431, 0.00096446, 0.00097332,\n",
       "       0.00095529, 0.0010067 , 0.00101151, 0.00096251, 0.00095672,\n",
       "       0.00095481, 0.00101044, 0.00095433, 0.00096544, 0.0009905 ,\n",
       "       0.00098032, 0.00096544, 0.00096203, 0.00096544, 0.0009572 ,\n",
       "       0.00097084, 0.00199551, 0.00096154, 0.00202516, 0.00096544,\n",
       "       0.00113016, 0.0010099 , 0.00097382, 0.00096009, 0.0009572 ,\n",
       "       0.00096887, 0.00096009, 0.00095672, 0.00097183, 0.00096009,\n",
       "       0.00097134, 0.00097581, 0.00101636, 0.00096154, 0.00107719,\n",
       "       0.00192697, 0.00095576, 0.00095433, 0.00097531, 0.00099619,\n",
       "       0.00102897, 0.00097631, 0.00096495, 0.00096251, 0.00104475,\n",
       "       0.00097233, 0.00095672, 0.00191153, 0.00095816, 0.00095816,\n",
       "       0.00096446, 0.00096058, 0.00108949, 0.00101528, 0.00095481,\n",
       "       0.00095481, 0.00097332, 0.00095768, 0.00096058, 0.00100089,\n",
       "       0.00108208, 0.00097084, 0.00097382, 0.00096251, 0.00097831,\n",
       "       0.00098437, 0.00097282, 0.04769261, 0.00097631, 0.00098437,\n",
       "       0.00095768, 0.00096887, 0.00097035, 0.00095576, 0.00096838,\n",
       "       0.00097233, 0.00097183, 0.00097581, 0.0010505 , 0.00198719,\n",
       "       0.00096009, 0.00097035, 0.00100247, 0.00096544, 0.00098335,\n",
       "       0.00098947, 0.00097481, 0.00096985, 0.00096349, 0.00095481,\n",
       "       0.0009572 , 0.00095913, 0.00118344, 0.00098032, 0.00097881,\n",
       "       0.00095672, 0.00102675, 0.00115899, 0.00095481, 0.00096349,\n",
       "       0.00096203, 0.00095433, 0.00095433, 0.00097631, 0.00101044,\n",
       "       0.00104417, 0.00098133, 0.00096058, 0.00098133, 0.00107114,\n",
       "       0.00096985, 0.00096936, 0.0009864 , 0.00192309, 0.00095576,\n",
       "       0.00098335, 0.00096203, 0.00110656, 0.00110336, 0.00096106,\n",
       "       0.00096154, 0.00095816, 0.00101474, 0.00096936, 0.0009674 ,\n",
       "       0.00095624, 0.00098845, 0.0009572 , 0.00095768, 0.00271366,\n",
       "       0.00098032, 0.00103736, 0.00099153, 0.0024302 , 0.00330625,\n",
       "       0.00097531, 0.00268313, 0.00104303, 0.02326469, 0.00098538,\n",
       "       0.00098845, 0.00209178, 0.00095768, 0.00096154, 0.00096058,\n",
       "       0.00096838, 0.00108208, 0.00100089, 0.00095481, 0.00119605,\n",
       "       0.002497  , 0.00101097, 0.00095961, 0.00096154, 0.00097134,\n",
       "       0.00096642, 0.00196064, 0.00095672, 0.00103455, 0.00098386,\n",
       "       0.00096446, 0.00096009, 0.0009572 , 0.00096446, 0.00098335,\n",
       "       0.00097481, 0.00097631, 0.00101962, 0.00095481, 0.00194465,\n",
       "       0.00095529, 0.00195062, 0.00101044, 0.00100142, 0.00191922,\n",
       "       0.00114646, 0.00095433, 0.00097831, 0.0010368 , 0.00097134,\n",
       "       0.00097134, 0.00098794, 0.00113825, 0.00107114, 0.00098488,\n",
       "       0.00095624, 0.00095768, 0.00095768, 0.00096349, 0.05450584])"
      ]
     },
     "execution_count": 67,
     "metadata": {},
     "output_type": "execute_result"
    }
   ],
   "source": [
    "weights = []\n",
    "\n",
    "for count, train_piece in enumerate(train_list_all):\n",
    "    num_states = 0\n",
    "    for key, value in train_piece.items():\n",
    "        for subkey, subvalue in value.items():\n",
    "            num_states += subvalue\n",
    "    if num_states == 0:\n",
    "        weights.append(0)\n",
    "    else:\n",
    "        weights.append(1/num_states) # inverse of number of states\n",
    "    \n",
    "weights = np.array(weights)/sum(weights)\n",
    "weights"
   ]
  },
  {
   "cell_type": "code",
   "execution_count": 68,
   "id": "selective-philosophy",
   "metadata": {},
   "outputs": [],
   "source": [
    "for count, train_piece in enumerate(train_list_all):\n",
    "    for key, value in train_piece.items():\n",
    "        for subkey, subvalue in value.items():\n",
    "            train_piece[key][subkey] *= weights[count]"
   ]
  },
  {
   "cell_type": "code",
   "execution_count": 69,
   "id": "statutory-cutting",
   "metadata": {},
   "outputs": [],
   "source": [
    "train_list_b = train_list_all[:len(train_list_b)]\n",
    "\n",
    "train_list_r = train_list_all[-len(train_list_r):]"
   ]
  },
  {
   "cell_type": "code",
   "execution_count": 70,
   "id": "expressed-prague",
   "metadata": {},
   "outputs": [],
   "source": [
    "for train_piece in train_list_b[1:]:\n",
    "    for key, value in train_piece.items():\n",
    "        for subkey, subvalue in value.items():\n",
    "            train_list_b[0][key][subkey] = subvalue + train_list_b[0][key][subkey]"
   ]
  },
  {
   "cell_type": "code",
   "execution_count": 71,
   "id": "considered-aluminum",
   "metadata": {},
   "outputs": [],
   "source": [
    "for train_piece in train_list_r[1:]:\n",
    "    for key, value in train_piece.items():\n",
    "        for subkey, subvalue in value.items():\n",
    "            train_list_r[0][key][subkey] = subvalue + train_list_r[0][key][subkey]"
   ]
  },
  {
   "cell_type": "code",
   "execution_count": 72,
   "id": "corporate-basics",
   "metadata": {},
   "outputs": [
    {
     "data": {
      "text/plain": [
       "400.61794225572925"
      ]
     },
     "execution_count": 72,
     "metadata": {},
     "output_type": "execute_result"
    }
   ],
   "source": [
    "# NUMBER OF NOTE TRANSITIONS FOR BAROQUE\n",
    "total = 0\n",
    "for k1 in train_list_b[0]:\n",
    "    for k2 in train_list_b[0][k1]:\n",
    "        total += train_list_b[0][k1][k2]\n",
    "    \n",
    "total\n",
    "# higher number since there are 27 baroque pieces vs 23 romantic"
   ]
  },
  {
   "cell_type": "code",
   "execution_count": 73,
   "id": "south-reserve",
   "metadata": {},
   "outputs": [
    {
     "data": {
      "text/plain": [
       "400.6179422557276"
      ]
     },
     "execution_count": 73,
     "metadata": {},
     "output_type": "execute_result"
    }
   ],
   "source": [
    "# NUMBER OF NOTE TRANSITIONS FOR ROMANTIC\n",
    "total = 0\n",
    "for k1 in train_list_r[0]:\n",
    "    for k2 in train_list_r[0][k1]:\n",
    "        total += train_list_r[0][k1][k2]\n",
    "    \n",
    "total"
   ]
  },
  {
   "cell_type": "markdown",
   "id": "latter-flashing",
   "metadata": {},
   "source": [
    "## Likelihood with smoothing"
   ]
  },
  {
   "cell_type": "code",
   "execution_count": 74,
   "id": "elder-special",
   "metadata": {
    "scrolled": true
   },
   "outputs": [
    {
     "name": "stdout",
     "output_type": "stream",
     "text": [
      "Prediction: Piece is Baroque\n",
      "Prediction: Piece is Baroque\n",
      "Prediction: Piece is Baroque\n",
      "Prediction: Piece is Baroque\n",
      "Prediction: Piece is Romantic\n",
      "Prediction: Piece is Romantic\n",
      "Prediction: Piece is Baroque\n",
      "Prediction: Piece is Baroque\n",
      "Prediction: Piece is Baroque\n",
      "Prediction: Piece is Romantic\n",
      "Prediction: Piece is Baroque\n",
      "Prediction: Piece is Baroque\n",
      "Prediction: Piece is Romantic\n",
      "Prediction: Piece is Baroque\n",
      "Prediction: Piece is Baroque\n",
      "Prediction: Piece is Baroque\n",
      "Prediction: Piece is Baroque\n",
      "Prediction: Piece is Baroque\n",
      "Prediction: Piece is Baroque\n",
      "Prediction: Piece is Baroque\n",
      "Prediction: Piece is Baroque\n",
      "Prediction: Piece is Baroque\n",
      "Prediction: Piece is Baroque\n",
      "Prediction: Piece is Baroque\n",
      "Prediction: Piece is Baroque\n",
      "Prediction: Piece is Baroque\n",
      "Prediction: Piece is Baroque\n",
      "Prediction: Piece is Baroque\n",
      "Prediction: Piece is Baroque\n",
      "Prediction: Piece is Baroque\n",
      "Prediction: Piece is Baroque\n",
      "Prediction: Piece is Baroque\n",
      "Prediction: Piece is Baroque\n",
      "Prediction: Piece is Baroque\n",
      "Prediction: Piece is Baroque\n",
      "Prediction: Piece is Romantic\n",
      "Prediction: Piece is Romantic\n",
      "Prediction: Piece is Baroque\n",
      "Prediction: Piece is Baroque\n",
      "Prediction: Piece is Romantic\n",
      "Prediction: Piece is Baroque\n",
      "Prediction: Piece is Baroque\n",
      "Prediction: Piece is Baroque\n",
      "Prediction: Piece is Baroque\n",
      "Prediction: Piece is Baroque\n",
      "Prediction: Piece is Baroque\n",
      "Prediction: Piece is Baroque\n",
      "Prediction: Piece is Baroque\n",
      "Prediction: Piece is Romantic\n",
      "Prediction: Piece is Baroque\n",
      "Prediction: Piece is Baroque\n",
      "Prediction: Piece is Romantic\n",
      "Prediction: Piece is Baroque\n",
      "Prediction: Piece is Baroque\n",
      "Prediction: Piece is Baroque\n",
      "Prediction: Piece is Baroque\n",
      "Prediction: Piece is Romantic\n",
      "Prediction: Piece is Baroque\n",
      "Prediction: Piece is Baroque\n",
      "Prediction: Piece is Baroque\n",
      "Prediction: Piece is Baroque\n",
      "Prediction: Piece is Baroque\n",
      "Prediction: Piece is Baroque\n",
      "Prediction: Piece is Baroque\n",
      "Prediction: Piece is Baroque\n",
      "Prediction: Piece is Baroque\n",
      "Prediction: Piece is Baroque\n",
      "Prediction: Piece is Baroque\n",
      "Prediction: Piece is Baroque\n",
      "Prediction: Piece is Baroque\n",
      "Prediction: Piece is Baroque\n",
      "Prediction: Piece is Romantic\n",
      "Prediction: Piece is Baroque\n",
      "Prediction: Piece is Baroque\n",
      "Prediction: Piece is Baroque\n",
      "Prediction: Piece is Baroque\n",
      "Prediction: Piece is Baroque\n",
      "Prediction: Piece is Baroque\n",
      "Prediction: Piece is Romantic\n",
      "Prediction: Piece is Baroque\n",
      "Prediction: Piece is Baroque\n",
      "Prediction: Piece is Baroque\n",
      "Prediction: Piece is Baroque\n",
      "Prediction: Piece is Baroque\n",
      "Prediction: Piece is Baroque\n",
      "Prediction: Piece is Baroque\n",
      "Prediction: Piece is Baroque\n",
      "Prediction: Piece is Baroque\n",
      "Prediction: Piece is Baroque\n",
      "Prediction: Piece is Baroque\n",
      "Prediction: Piece is Baroque\n",
      "Prediction: Piece is Romantic\n",
      "Prediction: Piece is Baroque\n",
      "Prediction: Piece is Baroque\n",
      "Prediction: Piece is Baroque\n",
      "Prediction: Piece is Baroque\n",
      "Prediction: Piece is Baroque\n",
      "Prediction: Piece is Baroque\n",
      "Prediction: Piece is Baroque\n",
      "Prediction: Piece is Baroque\n",
      "Prediction: Piece is Baroque\n",
      "Prediction: Piece is Romantic\n",
      "Prediction: Piece is Romantic\n",
      "Prediction: Piece is Baroque\n",
      "Prediction: Piece is Romantic\n",
      "Prediction: Piece is Baroque\n",
      "Prediction: Piece is Romantic\n",
      "Prediction: Piece is Baroque\n",
      "Prediction: Piece is Baroque\n",
      "Prediction: Piece is Romantic\n",
      "Prediction: Piece is Baroque\n",
      "Prediction: Piece is Baroque\n",
      "Prediction: Piece is Baroque\n",
      "Prediction: Piece is Baroque\n",
      "Prediction: Piece is Baroque\n",
      "Prediction: Piece is Baroque\n",
      "Prediction: Piece is Baroque\n",
      "Prediction: Piece is Baroque\n",
      "Prediction: Piece is Baroque\n",
      "Prediction: Piece is Romantic\n",
      "Prediction: Piece is Baroque\n",
      "Prediction: Piece is Romantic\n",
      "Prediction: Piece is Baroque\n",
      "Prediction: Piece is Baroque\n",
      "Prediction: Piece is Baroque\n",
      "Prediction: Piece is Romantic\n",
      "Prediction: Piece is Baroque\n",
      "Prediction: Piece is Baroque\n",
      "Prediction: Piece is Baroque\n",
      "Prediction: Piece is Romantic\n",
      "Prediction: Piece is Romantic\n",
      "Prediction: Piece is Romantic\n",
      "Prediction: Piece is Baroque\n",
      "Prediction: Piece is Baroque\n",
      "Prediction: Piece is Baroque\n",
      "Prediction: Piece is Baroque\n",
      "Prediction: Piece is Baroque\n",
      "Prediction: Piece is Baroque\n",
      "Prediction: Piece is Baroque\n",
      "Prediction: Piece is Baroque\n"
     ]
    }
   ],
   "source": [
    "correct = 0\n",
    "for b_file in b_test:\n",
    "    test = get_gram_counts(b_file, 2)\n",
    "    result = calculate_smoothed_likelihood(1,test, train_list_b[0], train_list_r[0])\n",
    "    if result == 'B':\n",
    "        correct += 1\n",
    "    "
   ]
  },
  {
   "cell_type": "code",
   "execution_count": 75,
   "id": "seeing-march",
   "metadata": {},
   "outputs": [
    {
     "name": "stdout",
     "output_type": "stream",
     "text": [
      "82.86% were predicted correctly\n"
     ]
    }
   ],
   "source": [
    "print(f'{correct/len(b_test)*100:.2f}% were predicted correctly')"
   ]
  },
  {
   "cell_type": "code",
   "execution_count": 76,
   "id": "seasonal-simon",
   "metadata": {
    "scrolled": true
   },
   "outputs": [
    {
     "name": "stdout",
     "output_type": "stream",
     "text": [
      "Prediction: Piece is Baroque\n",
      "Prediction: Piece is Baroque\n",
      "Prediction: Piece is Baroque\n",
      "Prediction: Piece is Romantic\n",
      "Prediction: Piece is Baroque\n",
      "Prediction: Piece is Baroque\n",
      "Prediction: Piece is Baroque\n",
      "Prediction: Piece is Baroque\n",
      "Prediction: Piece is Baroque\n",
      "Prediction: Piece is Baroque\n",
      "Prediction: Piece is Baroque\n",
      "Prediction: Piece is Baroque\n",
      "Prediction: Piece is Baroque\n",
      "Prediction: Piece is Baroque\n",
      "Prediction: Piece is Baroque\n",
      "Prediction: Piece is Romantic\n",
      "Prediction: Piece is Baroque\n",
      "Prediction: Piece is Romantic\n",
      "Prediction: Piece is Baroque\n",
      "Prediction: Piece is Romantic\n",
      "Prediction: Piece is Romantic\n",
      "Prediction: Piece is Baroque\n",
      "Prediction: Piece is Romantic\n",
      "Prediction: Piece is Romantic\n",
      "Prediction: Piece is Romantic\n",
      "Prediction: Piece is Baroque\n",
      "Prediction: Piece is Baroque\n",
      "Prediction: Piece is Baroque\n",
      "Prediction: Piece is Baroque\n",
      "Prediction: Piece is Romantic\n",
      "Prediction: Piece is Baroque\n",
      "Prediction: Piece is Romantic\n",
      "Prediction: Piece is Baroque\n",
      "Prediction: Piece is Baroque\n",
      "Prediction: Piece is Baroque\n",
      "Prediction: Piece is Romantic\n",
      "Prediction: Piece is Baroque\n",
      "Prediction: Piece is Baroque\n",
      "Prediction: Piece is Romantic\n",
      "Prediction: Piece is Baroque\n",
      "Prediction: Piece is Baroque\n",
      "Prediction: Piece is Baroque\n",
      "Prediction: Piece is Romantic\n",
      "Prediction: Piece is Romantic\n",
      "Prediction: Piece is Baroque\n",
      "Prediction: Piece is Baroque\n",
      "Prediction: Piece is Baroque\n",
      "Prediction: Piece is Romantic\n",
      "Prediction: Piece is Baroque\n",
      "Prediction: Piece is Baroque\n",
      "Prediction: Piece is Baroque\n",
      "Prediction: Piece is Romantic\n",
      "Prediction: Piece is Baroque\n",
      "Prediction: Piece is Baroque\n",
      "Prediction: Piece is Baroque\n",
      "Prediction: Piece is Romantic\n",
      "Prediction: Piece is Romantic\n",
      "Prediction: Piece is Romantic\n",
      "Prediction: Piece is Baroque\n",
      "Prediction: Piece is Baroque\n",
      "Prediction: Piece is Baroque\n",
      "Prediction: Piece is Romantic\n",
      "Prediction: Piece is Romantic\n",
      "Prediction: Piece is Romantic\n",
      "Prediction: Piece is Baroque\n",
      "Prediction: Piece is Romantic\n",
      "Prediction: Piece is Romantic\n",
      "Prediction: Piece is Romantic\n",
      "Prediction: Piece is Romantic\n",
      "Prediction: Piece is Romantic\n",
      "Prediction: Piece is Baroque\n",
      "Prediction: Piece is Romantic\n",
      "Prediction: Piece is Romantic\n",
      "Prediction: Piece is Baroque\n",
      "Prediction: Piece is Baroque\n",
      "Prediction: Piece is Romantic\n",
      "Prediction: Piece is Baroque\n",
      "Prediction: Piece is Baroque\n",
      "Prediction: Piece is Romantic\n",
      "Prediction: Piece is Baroque\n",
      "Prediction: Piece is Baroque\n",
      "Prediction: Piece is Romantic\n",
      "Prediction: Piece is Baroque\n",
      "Prediction: Piece is Baroque\n",
      "Prediction: Piece is Baroque\n",
      "Prediction: Piece is Baroque\n",
      "Prediction: Piece is Romantic\n",
      "Prediction: Piece is Baroque\n",
      "Prediction: Piece is Romantic\n",
      "Prediction: Piece is Romantic\n",
      "Prediction: Piece is Baroque\n",
      "Prediction: Piece is Romantic\n",
      "Prediction: Piece is Baroque\n",
      "Prediction: Piece is Romantic\n",
      "Prediction: Piece is Romantic\n",
      "Prediction: Piece is Romantic\n",
      "Prediction: Piece is Baroque\n",
      "Prediction: Piece is Romantic\n",
      "Prediction: Piece is Baroque\n",
      "Prediction: Piece is Baroque\n",
      "Prediction: Piece is Romantic\n",
      "Prediction: Piece is Romantic\n",
      "Prediction: Piece is Romantic\n",
      "Prediction: Piece is Baroque\n",
      "Prediction: Piece is Romantic\n",
      "Prediction: Piece is Romantic\n",
      "Prediction: Piece is Baroque\n",
      "Prediction: Piece is Romantic\n",
      "Prediction: Piece is Romantic\n",
      "Prediction: Piece is Baroque\n",
      "Prediction: Piece is Romantic\n",
      "Prediction: Piece is Baroque\n",
      "Prediction: Piece is Romantic\n",
      "Prediction: Piece is Baroque\n",
      "Prediction: Piece is Romantic\n",
      "Prediction: Piece is Baroque\n",
      "Prediction: Piece is Baroque\n",
      "Prediction: Piece is Romantic\n",
      "Prediction: Piece is Baroque\n",
      "Prediction: Piece is Romantic\n",
      "Prediction: Piece is Baroque\n",
      "Prediction: Piece is Baroque\n",
      "Prediction: Piece is Baroque\n",
      "Prediction: Piece is Romantic\n",
      "Prediction: Piece is Romantic\n",
      "Prediction: Piece is Baroque\n",
      "Prediction: Piece is Romantic\n",
      "Prediction: Piece is Baroque\n",
      "Prediction: Piece is Romantic\n",
      "Prediction: Piece is Baroque\n",
      "Prediction: Piece is Baroque\n",
      "Prediction: Piece is Baroque\n",
      "Prediction: Piece is Baroque\n",
      "Prediction: Piece is Baroque\n",
      "Prediction: Piece is Baroque\n",
      "Prediction: Piece is Baroque\n",
      "Prediction: Piece is Romantic\n",
      "Prediction: Piece is Baroque\n",
      "Prediction: Piece is Romantic\n",
      "Prediction: Piece is Romantic\n"
     ]
    }
   ],
   "source": [
    "correct = 0\n",
    "for r_file in r_test:\n",
    "    test = get_gram_counts(r_file, 2)\n",
    "    result = calculate_smoothed_likelihood(1,test, train_list_b[0], train_list_r[0])\n",
    "    if result == 'R':\n",
    "        correct += 1\n",
    "    "
   ]
  },
  {
   "cell_type": "code",
   "execution_count": 77,
   "id": "closed-trademark",
   "metadata": {},
   "outputs": [
    {
     "name": "stdout",
     "output_type": "stream",
     "text": [
      "42.14% were predicted correctly\n"
     ]
    }
   ],
   "source": [
    "print(f'{correct/len(r_test)*100:.2f}% were predicted correctly')"
   ]
  },
  {
   "cell_type": "code",
   "execution_count": 284,
   "id": "stone-reasoning",
   "metadata": {},
   "outputs": [],
   "source": [
    "# # remove splitted files\n",
    "\n",
    "# mypath_b = 'MIDI PERIOD CLASSIFICATION/Baroque/'\n",
    "# b_files = [mypath_b+f for f in listdir(mypath_b) if (isfile(join(mypath_b, f))) and (f != '.DS_Store') and ('split' in f)]\n",
    "\n",
    "# mypath_r = 'MIDI PERIOD CLASSIFICATION/Romantic/'\n",
    "# r_files = [mypath_r+f for f in listdir(mypath_r) if (isfile(join(mypath_r, f))) and (f != '.DS_Store') and ('split' in f)]\n",
    "\n",
    "\n",
    "# for file in b_files:\n",
    "#     if 'split' in file:\n",
    "#         os.remove(file)\n",
    "        \n",
    "# for file in r_files:\n",
    "#     if 'split' in file:\n",
    "#         os.remove(file)"
   ]
  },
  {
   "cell_type": "markdown",
   "id": "victorian-meter",
   "metadata": {},
   "source": [
    "# Paganini vs Bach vs Chopin Showdown"
   ]
  },
  {
   "cell_type": "code",
   "execution_count": 285,
   "id": "addressed-delaware",
   "metadata": {},
   "outputs": [],
   "source": [
    "def calculate_likelihood2(gram_counts, bach_counts, chopin_counts, paganini_counts, remove_bach = True):\n",
    "    \"\"\"\n",
    "    Input: Pass the gram counts (test data) and the corresponding paganini, bach, and chopin counts (train data).\n",
    "           NO SMOOTHING\n",
    "    Output: Prediction of paganini, bach, or chopin\n",
    "    \"\"\"\n",
    "\n",
    "    # Log probability: smaller the magnitude, the more likely it is\n",
    "    log_p_b = 0 # log probability that it is bach\n",
    "    log_p_c = 0 # log probability that it is chopin\n",
    "    log_p_p = 0 # log probability that it is paganini\n",
    "    \n",
    "    # Get the number of total counts\n",
    "    N_b = 0 # bach training\n",
    "    for key in bach_counts:\n",
    "        N_b += sum(bach_counts[key].values())\n",
    "    N_c = 0 # chopin training\n",
    "    for key in chopin_counts:\n",
    "        N_c += sum(chopin_counts[key].values())\n",
    "    N_p = 0 # chopin training\n",
    "    for key in paganini_counts:\n",
    "        N_p += sum(paganini_counts[key].values())\n",
    "    \n",
    "\n",
    "    for key in gram_counts:\n",
    "        for state in gram_counts[key]:\n",
    "            if bach_counts[key][state] != 0:\n",
    "                likelihood = (bach_counts[key][state]) / (N_b)\n",
    "                log_p_b += gram_counts[key][state] * np.log(likelihood)\n",
    "        for state in gram_counts[key]:\n",
    "            if chopin_counts[key][state] != 0:\n",
    "                likelihood = (chopin_counts[key][state]) / (N_c)\n",
    "                log_p_c += gram_counts[key][state] * np.log(likelihood)\n",
    "        for state in gram_counts[key]:\n",
    "            if chopin_counts[key][state] != 0:\n",
    "                likelihood = (paganini_counts[key][state]) / (N_p)\n",
    "                log_p_p += gram_counts[key][state] * np.log(likelihood)\n",
    "\n",
    "    if remove_bach:\n",
    "        log_p_b=100000000 # Remove Bach from the picture            \n",
    "    if abs(log_p_b) < abs(log_p_c) and abs(log_p_b)< abs(log_p_p):\n",
    "        print('Prediction: Piece is Bach')\n",
    "        return 'B'\n",
    "    elif abs(log_p_c) < abs(log_p_b) and abs(log_p_c) < abs(log_p_p):\n",
    "        print('Prediction: Piece is Chopin')\n",
    "        return 'C'\n",
    "    else:\n",
    "        print('Prediction: Piece is Paganini')\n",
    "        return 'P'\n"
   ]
  },
  {
   "cell_type": "code",
   "execution_count": 344,
   "id": "fancy-transcription",
   "metadata": {},
   "outputs": [],
   "source": [
    "def calculate_smoothed_likelihood2(alpha, gram_counts, bach_counts, chopin_counts, paganini_counts, remove_bach = True):\n",
    "    \"\"\"\n",
    "    Input: Pass the gram counts (test data) and the corresponding paganini, bach, and chopin counts (train data).\n",
    "           Laplace smoothing has been implemented as a solution to dealing with unknown n-grams\n",
    "    Output: Prediction of paganini, bach, or chopin\n",
    "    \"\"\"\n",
    "\n",
    "    # Log probability: smaller the magnitude, the more likely it is\n",
    "    log_p_b = 0 # log probability that it is bach\n",
    "    log_p_c = 0 # log probability that it is chopin\n",
    "    log_p_p = 0 # log probability that it is paganini\n",
    "    \n",
    "    # Get the number of total counts\n",
    "    N_b = 0 # bach training\n",
    "    for key in bach_counts:\n",
    "        N_b += sum(bach_counts[key].values())\n",
    "    N_c = 0 # chopin training\n",
    "    for key in chopin_counts:\n",
    "        N_c += sum(chopin_counts[key].values())\n",
    "    N_p = 0 # chopin training\n",
    "    for key in paganini_counts:\n",
    "        N_p += sum(paganini_counts[key].values())\n",
    "        \n",
    "    # Vocabulary size\n",
    "    V_b = len(bach_counts.keys())\n",
    "    V_c = len(chopin_counts.keys())\n",
    "    V_p = len(paganini_counts.keys())\n",
    "    \n",
    "\n",
    "    for key in gram_counts:\n",
    "        for state in gram_counts[key]:\n",
    "            if bach_counts[key][state] != 0:\n",
    "                likelihood = (bach_counts[key][state] + alpha) / (N_b + alpha * V_b)\n",
    "                log_p_b += gram_counts[key][state] * np.log(likelihood)\n",
    "        for state in gram_counts[key]:\n",
    "            if chopin_counts[key][state] != 0:\n",
    "                likelihood = (chopin_counts[key][state] + alpha) / (N_c + alpha * V_c)\n",
    "                log_p_c += gram_counts[key][state] * np.log(likelihood)\n",
    "        for state in gram_counts[key]:\n",
    "            if chopin_counts[key][state] != 0:\n",
    "                likelihood = (paganini_counts[key][state] + alpha) / (N_p + alpha * V_p)\n",
    "                log_p_p += gram_counts[key][state] * np.log(likelihood)\n",
    "\n",
    "    if remove_bach:\n",
    "        log_p_b=100000000 # Remove Bach from the picture    \n",
    "\n",
    "    if abs(log_p_b) < abs(log_p_c) and abs(log_p_b)< abs(log_p_p):\n",
    "        print('Prediction: Piece is Bach')\n",
    "        return 'B'\n",
    "    elif abs(log_p_c) < abs(log_p_b) and abs(log_p_c) < abs(log_p_p):\n",
    "        print('Prediction: Piece is Chopin')\n",
    "        return 'C'\n",
    "    else:\n",
    "        print('Prediction: Piece is Paganini')\n",
    "        return 'P'\n"
   ]
  },
  {
   "cell_type": "code",
   "execution_count": 345,
   "id": "efficient-senegal",
   "metadata": {},
   "outputs": [],
   "source": [
    "import os\n",
    "from os import listdir\n",
    "from os.path import isfile, join\n",
    "\n",
    "mypath_b = 'MIDI PERIOD CLASSIFICATION/Bach/'\n",
    "b_files = [mypath_b+f for f in listdir(mypath_b) if (isfile(join(mypath_b, f))) and (f != '.DS_Store') and ('split' not in f)]\n",
    "\n",
    "mypath_c = 'MIDI PERIOD CLASSIFICATION/Chopin/'\n",
    "c_files = [mypath_c+f for f in listdir(mypath_c) if (isfile(join(mypath_c, f))) and (f != '.DS_Store') and ('split' not in f)]\n",
    "\n",
    "mypath_p = 'MIDI PERIOD CLASSIFICATION/Paganini/'\n",
    "p_files = [mypath_p+f for f in listdir(mypath_p) if (isfile(join(mypath_p, f))) and (f != '.DS_Store') and ('split' not in f)]\n",
    "\n",
    "\n",
    "b_files.sort()\n",
    "c_files.sort()\n",
    "p_files.sort()"
   ]
  },
  {
   "cell_type": "code",
   "execution_count": 346,
   "id": "terminal-level",
   "metadata": {},
   "outputs": [
    {
     "data": {
      "text/plain": [
       "['MIDI PERIOD CLASSIFICATION/Bach/bach_bwv1005_solo.mid',\n",
       " 'MIDI PERIOD CLASSIFICATION/Bach/bach_prelude_solo.mid',\n",
       " 'MIDI PERIOD CLASSIFICATION/Bach/bwv1001a_solo.mid',\n",
       " 'MIDI PERIOD CLASSIFICATION/Bach/bwv1001b_solo.mid',\n",
       " 'MIDI PERIOD CLASSIFICATION/Bach/bwv1001c_solo.mid',\n",
       " 'MIDI PERIOD CLASSIFICATION/Bach/bwv1001d_solo.mid',\n",
       " 'MIDI PERIOD CLASSIFICATION/Bach/bwv1002a_solo.mid',\n",
       " 'MIDI PERIOD CLASSIFICATION/Bach/bwv1002b_solo.mid',\n",
       " 'MIDI PERIOD CLASSIFICATION/Bach/bwv1002c_solo.mid',\n",
       " 'MIDI PERIOD CLASSIFICATION/Bach/bwv1002d_solo.mid',\n",
       " 'MIDI PERIOD CLASSIFICATION/Bach/bwv1002e_solo.mid',\n",
       " 'MIDI PERIOD CLASSIFICATION/Bach/bwv1002f_solo.mid',\n",
       " 'MIDI PERIOD CLASSIFICATION/Bach/bwv1002g_solo.mid',\n",
       " 'MIDI PERIOD CLASSIFICATION/Bach/bwv1002h_solo.mid',\n",
       " 'MIDI PERIOD CLASSIFICATION/Bach/bwv1003_1_solo.mid',\n",
       " 'MIDI PERIOD CLASSIFICATION/Bach/bwv1003_2_solo.mid',\n",
       " 'MIDI PERIOD CLASSIFICATION/Bach/bwv1003_3_solo.mid',\n",
       " 'MIDI PERIOD CLASSIFICATION/Bach/bwv1003_4_solo.mid',\n",
       " 'MIDI PERIOD CLASSIFICATION/Bach/bwv1041_1_solo.mid',\n",
       " 'MIDI PERIOD CLASSIFICATION/Bach/bwv1041_2_solo.mid',\n",
       " 'MIDI PERIOD CLASSIFICATION/Bach/bwv1041_3_solo.mid',\n",
       " 'MIDI PERIOD CLASSIFICATION/Bach/bwv1044_1_solo.mid',\n",
       " 'MIDI PERIOD CLASSIFICATION/Bach/bwv1044_2_solo.mid',\n",
       " 'MIDI PERIOD CLASSIFICATION/Bach/bwv1044_3_solo.mid']"
      ]
     },
     "execution_count": 346,
     "metadata": {},
     "output_type": "execute_result"
    }
   ],
   "source": [
    "b_files"
   ]
  },
  {
   "cell_type": "code",
   "execution_count": 347,
   "id": "ideal-uganda",
   "metadata": {},
   "outputs": [],
   "source": [
    "from sklearn.model_selection import train_test_split\n",
    "\n",
    "b_train, b_test = train_test_split(b_files, test_size=0.4, shuffle = True, random_state = 114)\n",
    "\n",
    "c_train, c_test = train_test_split(c_files, test_size=0.4, shuffle = True, random_state = 114)\n",
    "\n",
    "p_train, p_test = train_test_split(p_files, test_size=0.4, shuffle = True, random_state = 114)"
   ]
  },
  {
   "cell_type": "code",
   "execution_count": 348,
   "id": "assumed-consolidation",
   "metadata": {},
   "outputs": [],
   "source": [
    "# train Bach\n",
    "\n",
    "train_list_b = []\n",
    "\n",
    "for b_file in b_train:\n",
    "    train_list_b.append(get_gram_counts(b_file,2))"
   ]
  },
  {
   "cell_type": "code",
   "execution_count": 349,
   "id": "twenty-accessory",
   "metadata": {},
   "outputs": [],
   "source": [
    "# train Chopin\n",
    "\n",
    "train_list_c = []\n",
    "\n",
    "for c_file in c_train:\n",
    "    train_list_c.append(get_gram_counts(c_file,2))"
   ]
  },
  {
   "cell_type": "code",
   "execution_count": 350,
   "id": "accompanied-activity",
   "metadata": {},
   "outputs": [],
   "source": [
    "# train Paganini\n",
    "\n",
    "train_list_p = []\n",
    "\n",
    "for p_file in p_train:\n",
    "    train_list_p.append(get_gram_counts(p_file,2))"
   ]
  },
  {
   "cell_type": "code",
   "execution_count": 351,
   "id": "commercial-execution",
   "metadata": {},
   "outputs": [],
   "source": [
    "for train_piece in train_list_b[1:]:\n",
    "    for key, value in train_piece.items():\n",
    "        for subkey, subvalue in value.items():\n",
    "            train_list_b[0][key][subkey] = subvalue + train_list_b[0][key][subkey]"
   ]
  },
  {
   "cell_type": "code",
   "execution_count": 352,
   "id": "blocked-weekend",
   "metadata": {},
   "outputs": [],
   "source": [
    "for train_piece in train_list_c[1:]:\n",
    "    for key, value in train_piece.items():\n",
    "        for subkey, subvalue in value.items():\n",
    "            train_list_c[0][key][subkey] = subvalue + train_list_c[0][key][subkey]"
   ]
  },
  {
   "cell_type": "code",
   "execution_count": 353,
   "id": "interior-breath",
   "metadata": {},
   "outputs": [],
   "source": [
    "for train_piece in train_list_p[1:]:\n",
    "    for key, value in train_piece.items():\n",
    "        for subkey, subvalue in value.items():\n",
    "            train_list_p[0][key][subkey] = subvalue + train_list_p[0][key][subkey]"
   ]
  },
  {
   "cell_type": "code",
   "execution_count": 354,
   "id": "scenic-consumer",
   "metadata": {},
   "outputs": [
    {
     "data": {
      "text/plain": [
       "195569"
      ]
     },
     "execution_count": 354,
     "metadata": {},
     "output_type": "execute_result"
    }
   ],
   "source": [
    "# NUMBER OF NOTE TRANSITIONS FOR Bach\n",
    "total = 0\n",
    "for k1 in train_list_b[0]:\n",
    "    for k2 in train_list_b[0][k1]:\n",
    "        total += train_list_b[0][k1][k2]\n",
    "    \n",
    "total"
   ]
  },
  {
   "cell_type": "code",
   "execution_count": 355,
   "id": "artistic-lexington",
   "metadata": {},
   "outputs": [
    {
     "data": {
      "text/plain": [
       "182541"
      ]
     },
     "execution_count": 355,
     "metadata": {},
     "output_type": "execute_result"
    }
   ],
   "source": [
    "# NUMBER OF NOTE TRANSITIONS FOR Chopin\n",
    "total = 0\n",
    "for k1 in train_list_c[0]:\n",
    "    for k2 in train_list_c[0][k1]:\n",
    "        total += train_list_c[0][k1][k2]\n",
    "    \n",
    "total"
   ]
  },
  {
   "cell_type": "code",
   "execution_count": 356,
   "id": "sunset-catering",
   "metadata": {},
   "outputs": [
    {
     "data": {
      "text/plain": [
       "91205"
      ]
     },
     "execution_count": 356,
     "metadata": {},
     "output_type": "execute_result"
    }
   ],
   "source": [
    "# NUMBER OF NOTE TRANSITIONS FOR Paganini\n",
    "total = 0\n",
    "for k1 in train_list_p[0]:\n",
    "    for k2 in train_list_p[0][k1]:\n",
    "        total += train_list_p[0][k1][k2]\n",
    "    \n",
    "total"
   ]
  },
  {
   "cell_type": "markdown",
   "id": "through-sherman",
   "metadata": {},
   "source": [
    "### Likelihood without smoothing (no Bach)"
   ]
  },
  {
   "cell_type": "code",
   "execution_count": 357,
   "id": "protected-blackberry",
   "metadata": {
    "scrolled": true
   },
   "outputs": [
    {
     "name": "stdout",
     "output_type": "stream",
     "text": [
      "Prediction: Piece is Paganini\n",
      "Prediction: Piece is Paganini\n",
      "Prediction: Piece is Paganini\n",
      "Prediction: Piece is Paganini\n",
      "Prediction: Piece is Paganini\n",
      "Prediction: Piece is Paganini\n",
      "Prediction: Piece is Paganini\n",
      "Prediction: Piece is Paganini\n",
      "Prediction: Piece is Paganini\n",
      "Prediction: Piece is Paganini\n",
      "0.00% were predicted correctly\n"
     ]
    }
   ],
   "source": [
    "correct = 0\n",
    "for b_file in b_test:\n",
    "    test = get_gram_counts(b_file, 2)\n",
    "    result = calculate_likelihood2(test, train_list_b[0], train_list_c[0], train_list_p[0])\n",
    "    if result == 'B':\n",
    "        correct += 1\n",
    "        \n",
    "print(f'{correct/len(b_test)*100:.2f}% were predicted correctly')"
   ]
  },
  {
   "cell_type": "code",
   "execution_count": 358,
   "id": "formed-transportation",
   "metadata": {
    "scrolled": true
   },
   "outputs": [
    {
     "name": "stdout",
     "output_type": "stream",
     "text": [
      "Prediction: Piece is Paganini\n"
     ]
    },
    {
     "name": "stderr",
     "output_type": "stream",
     "text": [
      "<ipython-input-285-58aa6e675b5a>:37: RuntimeWarning: divide by zero encountered in log\n",
      "  log_p_p += gram_counts[key][state] * np.log(likelihood)\n",
      "<ipython-input-285-58aa6e675b5a>:37: RuntimeWarning: invalid value encountered in double_scalars\n",
      "  log_p_p += gram_counts[key][state] * np.log(likelihood)\n"
     ]
    },
    {
     "name": "stdout",
     "output_type": "stream",
     "text": [
      "Prediction: Piece is Paganini\n",
      "Prediction: Piece is Paganini\n",
      "Prediction: Piece is Paganini\n",
      "Prediction: Piece is Paganini\n",
      "Prediction: Piece is Paganini\n",
      "Prediction: Piece is Paganini\n",
      "0.00% were predicted correctly\n"
     ]
    }
   ],
   "source": [
    "correct = 0\n",
    "for c_file in c_test:\n",
    "    test = get_gram_counts(c_file, 2)\n",
    "    result = calculate_likelihood2(test, train_list_b[0], train_list_c[0], train_list_p[0])\n",
    "    if result == 'C':\n",
    "        correct += 1\n",
    "        \n",
    "print(f'{correct/len(c_test)*100:.2f}% were predicted correctly')"
   ]
  },
  {
   "cell_type": "code",
   "execution_count": 359,
   "id": "metallic-decline",
   "metadata": {},
   "outputs": [
    {
     "name": "stdout",
     "output_type": "stream",
     "text": [
      "Prediction: Piece is Paganini\n",
      "Prediction: Piece is Paganini\n",
      "Prediction: Piece is Paganini\n",
      "Prediction: Piece is Paganini\n",
      "100.00% were predicted correctly\n"
     ]
    }
   ],
   "source": [
    "correct = 0\n",
    "for p_file in p_test:\n",
    "    test = get_gram_counts(p_file, 2)\n",
    "    result = calculate_likelihood2(test, train_list_b[0], train_list_c[0], train_list_p[0])\n",
    "    if result == 'P':\n",
    "        correct += 1\n",
    "        \n",
    "print(f'{correct/len(p_test)*100:.2f}% were predicted correctly')"
   ]
  },
  {
   "cell_type": "markdown",
   "id": "earned-installation",
   "metadata": {},
   "source": [
    "### Likelihood with smoothing (no Bach)"
   ]
  },
  {
   "cell_type": "code",
   "execution_count": 360,
   "id": "aquatic-mixer",
   "metadata": {
    "scrolled": true
   },
   "outputs": [
    {
     "name": "stdout",
     "output_type": "stream",
     "text": [
      "Prediction: Piece is Paganini\n",
      "Prediction: Piece is Paganini\n",
      "Prediction: Piece is Paganini\n",
      "Prediction: Piece is Paganini\n",
      "Prediction: Piece is Paganini\n",
      "Prediction: Piece is Paganini\n",
      "Prediction: Piece is Paganini\n",
      "Prediction: Piece is Paganini\n",
      "Prediction: Piece is Paganini\n",
      "Prediction: Piece is Paganini\n",
      "0.00% were predicted correctly\n"
     ]
    }
   ],
   "source": [
    "correct = 0\n",
    "for b_file in b_test:\n",
    "    test = get_gram_counts(b_file, 2)\n",
    "    result = calculate_smoothed_likelihood2(1, test, train_list_b[0], train_list_c[0], train_list_p[0])\n",
    "    if result == 'B':\n",
    "        correct += 1\n",
    "        \n",
    "print(f'{correct/len(b_test)*100:.2f}% were predicted correctly')"
   ]
  },
  {
   "cell_type": "code",
   "execution_count": 361,
   "id": "veterinary-rehabilitation",
   "metadata": {
    "scrolled": true
   },
   "outputs": [
    {
     "name": "stdout",
     "output_type": "stream",
     "text": [
      "Prediction: Piece is Chopin\n",
      "Prediction: Piece is Chopin\n",
      "Prediction: Piece is Chopin\n",
      "Prediction: Piece is Chopin\n",
      "Prediction: Piece is Chopin\n",
      "Prediction: Piece is Chopin\n",
      "Prediction: Piece is Chopin\n",
      "100.00% were predicted correctly\n"
     ]
    }
   ],
   "source": [
    "correct = 0\n",
    "for c_file in c_test:\n",
    "    test = get_gram_counts(c_file, 2)\n",
    "    result = calculate_smoothed_likelihood2(1, test, train_list_b[0], train_list_c[0], train_list_p[0])\n",
    "    if result == 'C':\n",
    "        correct += 1\n",
    "        \n",
    "print(f'{correct/len(c_test)*100:.2f}% were predicted correctly')"
   ]
  },
  {
   "cell_type": "code",
   "execution_count": 362,
   "id": "overhead-edgar",
   "metadata": {
    "scrolled": true
   },
   "outputs": [
    {
     "name": "stdout",
     "output_type": "stream",
     "text": [
      "Prediction: Piece is Paganini\n",
      "Prediction: Piece is Paganini\n",
      "Prediction: Piece is Paganini\n",
      "Prediction: Piece is Paganini\n",
      "100.00% were predicted correctly\n"
     ]
    }
   ],
   "source": [
    "correct = 0\n",
    "for p_file in p_test:\n",
    "    test = get_gram_counts(p_file, 2)\n",
    "    result = calculate_smoothed_likelihood2(1, test, train_list_b[0], train_list_c[0], train_list_p[0])\n",
    "    if result == 'P':\n",
    "        correct += 1\n",
    "        \n",
    "print(f'{correct/len(p_test)*100:.2f}% were predicted correctly')"
   ]
  },
  {
   "cell_type": "markdown",
   "id": "female-semester",
   "metadata": {},
   "source": [
    "### Likelihood without smoothing (include Bach)"
   ]
  },
  {
   "cell_type": "code",
   "execution_count": 363,
   "id": "mediterranean-mongolia",
   "metadata": {
    "scrolled": true
   },
   "outputs": [
    {
     "name": "stdout",
     "output_type": "stream",
     "text": [
      "Prediction: Piece is Paganini\n",
      "Prediction: Piece is Paganini\n",
      "Prediction: Piece is Paganini\n",
      "Prediction: Piece is Paganini\n",
      "Prediction: Piece is Paganini\n",
      "Prediction: Piece is Paganini\n",
      "Prediction: Piece is Paganini\n",
      "Prediction: Piece is Paganini\n",
      "Prediction: Piece is Paganini\n",
      "Prediction: Piece is Paganini\n",
      "0.00% were predicted correctly\n"
     ]
    }
   ],
   "source": [
    "correct = 0\n",
    "for b_file in b_test:\n",
    "    test = get_gram_counts(b_file, 2)\n",
    "    result = calculate_likelihood2(test, train_list_b[0], train_list_c[0], train_list_p[0], remove_bach = False)\n",
    "    if result == 'B':\n",
    "        correct += 1\n",
    "        \n",
    "print(f'{correct/len(b_test)*100:.2f}% were predicted correctly')"
   ]
  },
  {
   "cell_type": "code",
   "execution_count": 364,
   "id": "interested-posting",
   "metadata": {
    "scrolled": true
   },
   "outputs": [
    {
     "name": "stdout",
     "output_type": "stream",
     "text": [
      "Prediction: Piece is Paganini\n"
     ]
    },
    {
     "name": "stderr",
     "output_type": "stream",
     "text": [
      "<ipython-input-285-58aa6e675b5a>:37: RuntimeWarning: divide by zero encountered in log\n",
      "  log_p_p += gram_counts[key][state] * np.log(likelihood)\n",
      "<ipython-input-285-58aa6e675b5a>:37: RuntimeWarning: invalid value encountered in double_scalars\n",
      "  log_p_p += gram_counts[key][state] * np.log(likelihood)\n"
     ]
    },
    {
     "name": "stdout",
     "output_type": "stream",
     "text": [
      "Prediction: Piece is Paganini\n",
      "Prediction: Piece is Paganini\n",
      "Prediction: Piece is Paganini\n",
      "Prediction: Piece is Paganini\n",
      "Prediction: Piece is Paganini\n",
      "Prediction: Piece is Paganini\n",
      "0.00% were predicted correctly\n"
     ]
    }
   ],
   "source": [
    "correct = 0\n",
    "for c_file in c_test:\n",
    "    test = get_gram_counts(c_file, 2)\n",
    "    result = calculate_likelihood2(test, train_list_b[0], train_list_c[0], train_list_p[0], remove_bach = False)\n",
    "    if result == 'C':\n",
    "        correct += 1\n",
    "        \n",
    "print(f'{correct/len(c_test)*100:.2f}% were predicted correctly')"
   ]
  },
  {
   "cell_type": "code",
   "execution_count": 365,
   "id": "exposed-market",
   "metadata": {},
   "outputs": [
    {
     "name": "stdout",
     "output_type": "stream",
     "text": [
      "Prediction: Piece is Paganini\n",
      "Prediction: Piece is Paganini\n",
      "Prediction: Piece is Paganini\n",
      "Prediction: Piece is Paganini\n",
      "100.00% were predicted correctly\n"
     ]
    }
   ],
   "source": [
    "correct = 0\n",
    "for p_file in p_test:\n",
    "    test = get_gram_counts(p_file, 2)\n",
    "    result = calculate_likelihood2(test, train_list_b[0], train_list_c[0], train_list_p[0], remove_bach = False)\n",
    "    if result == 'P':\n",
    "        correct += 1\n",
    "        \n",
    "print(f'{correct/len(p_test)*100:.2f}% were predicted correctly')"
   ]
  },
  {
   "cell_type": "markdown",
   "id": "regular-break",
   "metadata": {},
   "source": [
    "### Likelihood with smoothing (include Bach)"
   ]
  },
  {
   "cell_type": "code",
   "execution_count": 366,
   "id": "acknowledged-genre",
   "metadata": {
    "scrolled": true
   },
   "outputs": [
    {
     "name": "stdout",
     "output_type": "stream",
     "text": [
      "Prediction: Piece is Paganini\n",
      "Prediction: Piece is Paganini\n",
      "Prediction: Piece is Paganini\n",
      "Prediction: Piece is Paganini\n",
      "Prediction: Piece is Paganini\n",
      "Prediction: Piece is Paganini\n",
      "Prediction: Piece is Paganini\n",
      "Prediction: Piece is Paganini\n",
      "Prediction: Piece is Paganini\n",
      "Prediction: Piece is Paganini\n",
      "0.00% were predicted correctly\n"
     ]
    }
   ],
   "source": [
    "correct = 0\n",
    "for b_file in b_test:\n",
    "    test = get_gram_counts(b_file, 2)\n",
    "    result = calculate_smoothed_likelihood2(1, test, train_list_b[0], train_list_c[0], train_list_p[0], remove_bach = False)\n",
    "    if result == 'B':\n",
    "        correct += 1\n",
    "        \n",
    "print(f'{correct/len(b_test)*100:.2f}% were predicted correctly')"
   ]
  },
  {
   "cell_type": "code",
   "execution_count": 367,
   "id": "little-society",
   "metadata": {
    "scrolled": true
   },
   "outputs": [
    {
     "name": "stdout",
     "output_type": "stream",
     "text": [
      "Prediction: Piece is Bach\n",
      "Prediction: Piece is Bach\n",
      "Prediction: Piece is Bach\n",
      "Prediction: Piece is Bach\n",
      "Prediction: Piece is Bach\n",
      "Prediction: Piece is Bach\n",
      "Prediction: Piece is Bach\n",
      "0.00% were predicted correctly\n"
     ]
    }
   ],
   "source": [
    "correct = 0\n",
    "for c_file in c_test:\n",
    "    test = get_gram_counts(c_file, 2)\n",
    "    result = calculate_smoothed_likelihood2(1, test, train_list_b[0], train_list_c[0], train_list_p[0], remove_bach = False)\n",
    "    if result == 'C':\n",
    "        correct += 1\n",
    "        \n",
    "print(f'{correct/len(c_test)*100:.2f}% were predicted correctly')"
   ]
  },
  {
   "cell_type": "code",
   "execution_count": 368,
   "id": "pursuant-yield",
   "metadata": {},
   "outputs": [
    {
     "name": "stdout",
     "output_type": "stream",
     "text": [
      "Prediction: Piece is Paganini\n",
      "Prediction: Piece is Paganini\n",
      "Prediction: Piece is Paganini\n",
      "Prediction: Piece is Paganini\n",
      "100.00% were predicted correctly\n"
     ]
    }
   ],
   "source": [
    "correct = 0\n",
    "for p_file in p_test:\n",
    "    test = get_gram_counts(p_file, 2)\n",
    "    result = calculate_smoothed_likelihood2(1, test, train_list_b[0], train_list_c[0], train_list_p[0], remove_bach = False)\n",
    "    if result == 'P':\n",
    "        correct += 1\n",
    "        \n",
    "print(f'{correct/len(p_test)*100:.2f}% were predicted correctly')"
   ]
  },
  {
   "cell_type": "code",
   "execution_count": 369,
   "id": "coral-dinner",
   "metadata": {},
   "outputs": [
    {
     "data": {
      "text/plain": [
       "['MIDI PERIOD CLASSIFICATION/Bach/bwv1002b_solo.mid',\n",
       " 'MIDI PERIOD CLASSIFICATION/Bach/bwv1003_3_solo.mid',\n",
       " 'MIDI PERIOD CLASSIFICATION/Bach/bach_prelude_solo.mid',\n",
       " 'MIDI PERIOD CLASSIFICATION/Bach/bwv1001a_solo.mid',\n",
       " 'MIDI PERIOD CLASSIFICATION/Bach/bwv1044_3_solo.mid',\n",
       " 'MIDI PERIOD CLASSIFICATION/Bach/bwv1003_4_solo.mid',\n",
       " 'MIDI PERIOD CLASSIFICATION/Bach/bwv1044_1_solo.mid',\n",
       " 'MIDI PERIOD CLASSIFICATION/Bach/bwv1001d_solo.mid',\n",
       " 'MIDI PERIOD CLASSIFICATION/Bach/bwv1003_2_solo.mid',\n",
       " 'MIDI PERIOD CLASSIFICATION/Bach/bach_bwv1005_solo.mid']"
      ]
     },
     "execution_count": 369,
     "metadata": {},
     "output_type": "execute_result"
    }
   ],
   "source": [
    "b_test"
   ]
  },
  {
   "cell_type": "code",
   "execution_count": 370,
   "id": "billion-depression",
   "metadata": {},
   "outputs": [
    {
     "data": {
      "text/plain": [
       "['MIDI PERIOD CLASSIFICATION/Chopin/mazurka-50_solo.mid',\n",
       " 'MIDI PERIOD CLASSIFICATION/Chopin/mazurka24-2_solo.mid',\n",
       " 'MIDI PERIOD CLASSIFICATION/Chopin/mazurka68-2_solo.mid',\n",
       " 'MIDI PERIOD CLASSIFICATION/Chopin/mazurka33-4_solo.mid',\n",
       " 'MIDI PERIOD CLASSIFICATION/Chopin/mazurka07-2_solo.mid',\n",
       " 'MIDI PERIOD CLASSIFICATION/Chopin/chopin_etude_10_2_solo.mid',\n",
       " 'MIDI PERIOD CLASSIFICATION/Chopin/mazurka67-4_solo.mid']"
      ]
     },
     "execution_count": 370,
     "metadata": {},
     "output_type": "execute_result"
    }
   ],
   "source": [
    "c_test"
   ]
  },
  {
   "cell_type": "code",
   "execution_count": 371,
   "id": "allied-marker",
   "metadata": {},
   "outputs": [
    {
     "data": {
      "text/plain": [
       "['MIDI PERIOD CLASSIFICATION/Paganini/capriccio_2_solo.mid',\n",
       " 'MIDI PERIOD CLASSIFICATION/Paganini/Capriccio5_solo.mid',\n",
       " 'MIDI PERIOD CLASSIFICATION/Paganini/Capriccio24_solo.mid',\n",
       " 'MIDI PERIOD CLASSIFICATION/Paganini/paganini_11_solo.mid']"
      ]
     },
     "execution_count": 371,
     "metadata": {},
     "output_type": "execute_result"
    }
   ],
   "source": [
    "p_test"
   ]
  },
  {
   "cell_type": "markdown",
   "id": "guilty-visiting",
   "metadata": {},
   "source": [
    "# Sensitivity Analysis on alpha for genre classification (with smoothing)"
   ]
  },
  {
   "cell_type": "code",
   "execution_count": 372,
   "id": "corresponding-watershed",
   "metadata": {},
   "outputs": [],
   "source": [
    "import os\n",
    "from os import listdir\n",
    "from os.path import isfile, join\n",
    "\n",
    "mypath_b = 'MIDI PERIOD CLASSIFICATION/Baroque/'\n",
    "b_files = [mypath_b+f for f in listdir(mypath_b) if (isfile(join(mypath_b, f))) and (f != '.DS_Store') and ('split' not in f)]\n",
    "\n",
    "mypath_r = 'MIDI PERIOD CLASSIFICATION/Romantic/'\n",
    "r_files = [mypath_r+f for f in listdir(mypath_r) if (isfile(join(mypath_r, f))) and (f != '.DS_Store') and ('split' not in f)]\n",
    "\n",
    "b_files.sort()\n",
    "r_files.sort()"
   ]
  },
  {
   "cell_type": "code",
   "execution_count": 373,
   "id": "latter-brick",
   "metadata": {},
   "outputs": [],
   "source": [
    "from sklearn.model_selection import train_test_split\n",
    "\n",
    "b_train, b_test = train_test_split(b_files, test_size=0.4, shuffle = True, random_state = 114)\n",
    "\n",
    "r_train, r_test = train_test_split(r_files, test_size=0.4, shuffle = True, random_state = 114)"
   ]
  },
  {
   "cell_type": "code",
   "execution_count": 374,
   "id": "distinct-daisy",
   "metadata": {},
   "outputs": [
    {
     "data": {
      "text/plain": [
       "28"
      ]
     },
     "execution_count": 374,
     "metadata": {},
     "output_type": "execute_result"
    }
   ],
   "source": [
    "# baseline model calculations\n",
    "len(b_test) + len(r_test)"
   ]
  },
  {
   "cell_type": "code",
   "execution_count": 375,
   "id": "ordinary-batman",
   "metadata": {},
   "outputs": [
    {
     "name": "stdout",
     "output_type": "stream",
     "text": [
      "Probability that baseline model gets baroque right: 53.57%\n"
     ]
    }
   ],
   "source": [
    "print(f'Probability that baseline model gets baroque right: {len(b_test)/28 * 100:.2f}%')"
   ]
  },
  {
   "cell_type": "code",
   "execution_count": 376,
   "id": "capable-highlight",
   "metadata": {},
   "outputs": [],
   "source": [
    "# train Baroque\n",
    "\n",
    "train_list_b = []\n",
    "\n",
    "for b_file in b_train:\n",
    "    train_list_b.append(get_gram_counts(b_file,2))"
   ]
  },
  {
   "cell_type": "code",
   "execution_count": 377,
   "id": "logical-concern",
   "metadata": {},
   "outputs": [],
   "source": [
    "# train Romantic\n",
    "\n",
    "train_list_r = []\n",
    "\n",
    "for r_file in r_train:\n",
    "    train_list_r.append(get_gram_counts(r_file,2))"
   ]
  },
  {
   "cell_type": "code",
   "execution_count": 378,
   "id": "awful-tamil",
   "metadata": {},
   "outputs": [],
   "source": [
    "for train_piece in train_list_b[1:]:\n",
    "    for key, value in train_piece.items():\n",
    "        for subkey, subvalue in value.items():\n",
    "            train_list_b[0][key][subkey] = subvalue + train_list_b[0][key][subkey]"
   ]
  },
  {
   "cell_type": "code",
   "execution_count": 379,
   "id": "framed-philadelphia",
   "metadata": {},
   "outputs": [],
   "source": [
    "for train_piece in train_list_r[1:]:\n",
    "    for key, value in train_piece.items():\n",
    "        for subkey, subvalue in value.items():\n",
    "            train_list_r[0][key][subkey] = subvalue + train_list_r[0][key][subkey]"
   ]
  },
  {
   "cell_type": "markdown",
   "id": "indirect-creativity",
   "metadata": {},
   "source": [
    "## Likelihood with smoothing"
   ]
  },
  {
   "cell_type": "code",
   "execution_count": 380,
   "id": "earned-bible",
   "metadata": {},
   "outputs": [],
   "source": [
    "import matplotlib as mpl\n",
    "\n",
    "# Edit the font, font size, and axes width\n",
    "mpl.rcParams['font.family'] = 'Avenir'\n",
    "plt.rcParams['font.size'] = 15\n",
    "plt.rcParams['axes.linewidth'] = 2"
   ]
  },
  {
   "cell_type": "code",
   "execution_count": 381,
   "id": "increased-profession",
   "metadata": {},
   "outputs": [],
   "source": [
    "import sys\n",
    "\n",
    "class HiddenPrints:\n",
    "    def __enter__(self):\n",
    "        self._original_stdout = sys.stdout\n",
    "        sys.stdout = open(os.devnull, 'w')\n",
    "\n",
    "    def __exit__(self, exc_type, exc_val, exc_tb):\n",
    "        sys.stdout.close()\n",
    "        sys.stdout = self._original_stdout"
   ]
  },
  {
   "cell_type": "code",
   "execution_count": 382,
   "id": "further-gasoline",
   "metadata": {
    "scrolled": true
   },
   "outputs": [
    {
     "name": "stdout",
     "output_type": "stream",
     "text": [
      "93.33% were predicted correctly\n",
      "100.00% were predicted correctly\n",
      "100.00% were predicted correctly\n",
      "100.00% were predicted correctly\n",
      "100.00% were predicted correctly\n",
      "93.33% were predicted correctly\n",
      "93.33% were predicted correctly\n",
      "93.33% were predicted correctly\n",
      "93.33% were predicted correctly\n",
      "93.33% were predicted correctly\n",
      "93.33% were predicted correctly\n",
      "93.33% were predicted correctly\n",
      "93.33% were predicted correctly\n",
      "93.33% were predicted correctly\n",
      "93.33% were predicted correctly\n",
      "93.33% were predicted correctly\n",
      "93.33% were predicted correctly\n",
      "93.33% were predicted correctly\n",
      "93.33% were predicted correctly\n",
      "93.33% were predicted correctly\n",
      "93.33% were predicted correctly\n",
      "93.33% were predicted correctly\n",
      "93.33% were predicted correctly\n",
      "93.33% were predicted correctly\n",
      "93.33% were predicted correctly\n",
      "93.33% were predicted correctly\n",
      "93.33% were predicted correctly\n",
      "93.33% were predicted correctly\n",
      "93.33% were predicted correctly\n",
      "93.33% were predicted correctly\n",
      "93.33% were predicted correctly\n",
      "93.33% were predicted correctly\n",
      "93.33% were predicted correctly\n",
      "93.33% were predicted correctly\n",
      "93.33% were predicted correctly\n",
      "93.33% were predicted correctly\n",
      "93.33% were predicted correctly\n",
      "93.33% were predicted correctly\n",
      "93.33% were predicted correctly\n",
      "93.33% were predicted correctly\n",
      "93.33% were predicted correctly\n",
      "93.33% were predicted correctly\n",
      "93.33% were predicted correctly\n",
      "93.33% were predicted correctly\n",
      "93.33% were predicted correctly\n",
      "93.33% were predicted correctly\n",
      "93.33% were predicted correctly\n",
      "93.33% were predicted correctly\n",
      "93.33% were predicted correctly\n",
      "93.33% were predicted correctly\n",
      "93.33% were predicted correctly\n",
      "93.33% were predicted correctly\n",
      "93.33% were predicted correctly\n",
      "93.33% were predicted correctly\n",
      "93.33% were predicted correctly\n",
      "93.33% were predicted correctly\n",
      "93.33% were predicted correctly\n",
      "93.33% were predicted correctly\n",
      "93.33% were predicted correctly\n",
      "93.33% were predicted correctly\n",
      "93.33% were predicted correctly\n",
      "93.33% were predicted correctly\n",
      "93.33% were predicted correctly\n",
      "93.33% were predicted correctly\n",
      "93.33% were predicted correctly\n",
      "93.33% were predicted correctly\n",
      "93.33% were predicted correctly\n",
      "93.33% were predicted correctly\n",
      "93.33% were predicted correctly\n",
      "93.33% were predicted correctly\n",
      "93.33% were predicted correctly\n",
      "93.33% were predicted correctly\n",
      "93.33% were predicted correctly\n",
      "93.33% were predicted correctly\n",
      "93.33% were predicted correctly\n",
      "93.33% were predicted correctly\n",
      "93.33% were predicted correctly\n",
      "93.33% were predicted correctly\n",
      "93.33% were predicted correctly\n",
      "93.33% were predicted correctly\n",
      "93.33% were predicted correctly\n",
      "93.33% were predicted correctly\n",
      "93.33% were predicted correctly\n",
      "93.33% were predicted correctly\n",
      "93.33% were predicted correctly\n",
      "93.33% were predicted correctly\n",
      "93.33% were predicted correctly\n",
      "93.33% were predicted correctly\n",
      "93.33% were predicted correctly\n",
      "93.33% were predicted correctly\n",
      "93.33% were predicted correctly\n",
      "93.33% were predicted correctly\n",
      "93.33% were predicted correctly\n",
      "93.33% were predicted correctly\n",
      "93.33% were predicted correctly\n",
      "93.33% were predicted correctly\n",
      "93.33% were predicted correctly\n",
      "93.33% were predicted correctly\n",
      "93.33% were predicted correctly\n",
      "93.33% were predicted correctly\n"
     ]
    }
   ],
   "source": [
    "b_correct = []\n",
    "for alpha in np.arange(0.001,1,0.01):\n",
    "    correct = 0\n",
    "    for b_file in b_test:\n",
    "        with HiddenPrints():\n",
    "            test = get_gram_counts(b_file, 2)\n",
    "            result = calculate_smoothed_likelihood(alpha,test, train_list_b[0], train_list_r[0])\n",
    "            if result == 'B':\n",
    "                correct += 1\n",
    "    b_correct.append(correct/len(b_test)*100)\n",
    "    print(f'{correct/len(b_test)*100:.2f}% were predicted correctly')"
   ]
  },
  {
   "cell_type": "code",
   "execution_count": 383,
   "id": "affected-replacement",
   "metadata": {
    "scrolled": true
   },
   "outputs": [
    {
     "name": "stdout",
     "output_type": "stream",
     "text": [
      "92.31% were predicted correctly\n",
      "92.31% were predicted correctly\n",
      "92.31% were predicted correctly\n",
      "92.31% were predicted correctly\n",
      "92.31% were predicted correctly\n",
      "92.31% were predicted correctly\n",
      "92.31% were predicted correctly\n",
      "92.31% were predicted correctly\n",
      "92.31% were predicted correctly\n",
      "92.31% were predicted correctly\n",
      "92.31% were predicted correctly\n",
      "92.31% were predicted correctly\n",
      "92.31% were predicted correctly\n",
      "92.31% were predicted correctly\n",
      "92.31% were predicted correctly\n",
      "92.31% were predicted correctly\n",
      "92.31% were predicted correctly\n",
      "92.31% were predicted correctly\n",
      "92.31% were predicted correctly\n",
      "92.31% were predicted correctly\n",
      "92.31% were predicted correctly\n",
      "92.31% were predicted correctly\n",
      "92.31% were predicted correctly\n",
      "92.31% were predicted correctly\n",
      "92.31% were predicted correctly\n",
      "92.31% were predicted correctly\n",
      "92.31% were predicted correctly\n",
      "92.31% were predicted correctly\n",
      "92.31% were predicted correctly\n",
      "92.31% were predicted correctly\n",
      "92.31% were predicted correctly\n",
      "92.31% were predicted correctly\n",
      "92.31% were predicted correctly\n",
      "92.31% were predicted correctly\n",
      "92.31% were predicted correctly\n",
      "92.31% were predicted correctly\n",
      "92.31% were predicted correctly\n",
      "92.31% were predicted correctly\n",
      "92.31% were predicted correctly\n",
      "92.31% were predicted correctly\n",
      "92.31% were predicted correctly\n",
      "92.31% were predicted correctly\n",
      "92.31% were predicted correctly\n",
      "92.31% were predicted correctly\n",
      "92.31% were predicted correctly\n",
      "92.31% were predicted correctly\n",
      "92.31% were predicted correctly\n",
      "92.31% were predicted correctly\n",
      "92.31% were predicted correctly\n",
      "92.31% were predicted correctly\n",
      "92.31% were predicted correctly\n",
      "92.31% were predicted correctly\n",
      "92.31% were predicted correctly\n",
      "92.31% were predicted correctly\n",
      "92.31% were predicted correctly\n",
      "92.31% were predicted correctly\n",
      "92.31% were predicted correctly\n",
      "92.31% were predicted correctly\n",
      "92.31% were predicted correctly\n",
      "92.31% were predicted correctly\n",
      "92.31% were predicted correctly\n",
      "92.31% were predicted correctly\n",
      "92.31% were predicted correctly\n",
      "92.31% were predicted correctly\n",
      "92.31% were predicted correctly\n",
      "92.31% were predicted correctly\n",
      "92.31% were predicted correctly\n",
      "92.31% were predicted correctly\n",
      "92.31% were predicted correctly\n",
      "92.31% were predicted correctly\n",
      "92.31% were predicted correctly\n",
      "92.31% were predicted correctly\n",
      "92.31% were predicted correctly\n",
      "92.31% were predicted correctly\n",
      "92.31% were predicted correctly\n",
      "92.31% were predicted correctly\n",
      "92.31% were predicted correctly\n",
      "92.31% were predicted correctly\n",
      "92.31% were predicted correctly\n",
      "92.31% were predicted correctly\n",
      "92.31% were predicted correctly\n",
      "92.31% were predicted correctly\n",
      "92.31% were predicted correctly\n",
      "92.31% were predicted correctly\n",
      "92.31% were predicted correctly\n",
      "92.31% were predicted correctly\n",
      "92.31% were predicted correctly\n",
      "92.31% were predicted correctly\n",
      "92.31% were predicted correctly\n",
      "92.31% were predicted correctly\n",
      "92.31% were predicted correctly\n",
      "92.31% were predicted correctly\n",
      "92.31% were predicted correctly\n",
      "92.31% were predicted correctly\n",
      "92.31% were predicted correctly\n",
      "92.31% were predicted correctly\n",
      "92.31% were predicted correctly\n",
      "92.31% were predicted correctly\n",
      "92.31% were predicted correctly\n",
      "92.31% were predicted correctly\n"
     ]
    }
   ],
   "source": [
    "r_correct = []\n",
    "for alpha in np.arange(0.001,1,0.01):\n",
    "    correct = 0        \n",
    "    for r_file in r_test:\n",
    "        with HiddenPrints():\n",
    "            test = get_gram_counts(r_file, 2)\n",
    "            result = calculate_smoothed_likelihood(alpha, test, train_list_b[0], train_list_r[0])\n",
    "            if result == 'R':\n",
    "                correct += 1\n",
    "    r_correct.append(correct/len(r_test)*100)\n",
    "    print(f'{correct/len(r_test)*100:.2f}% were predicted correctly')\n"
   ]
  },
  {
   "cell_type": "code",
   "execution_count": 384,
   "id": "according-means",
   "metadata": {
    "scrolled": false
   },
   "outputs": [
    {
     "data": {
      "text/plain": [
       "Text(0.5, 1.0, 'Percent of Baroque and Romantic Pieces in the Test Dataset Categorized Correctly')"
      ]
     },
     "execution_count": 384,
     "metadata": {},
     "output_type": "execute_result"
    },
    {
     "data": {
      "image/png": "[encoded data removed]",
      "text/plain": [
       "<Figure size 640x480 with 1 Axes>"
      ]
     },
     "metadata": {},
     "output_type": "display_data"
    }
   ],
   "source": [
    "import matplotlib.pyplot as plt\n",
    "\n",
    "plt.plot(np.arange(0.001,1,0.01), r_correct, label = 'Romantic')\n",
    "plt.plot(np.arange(0.001,1,0.01), b_correct, label = 'Baroque')\n",
    "plt.legend()\n",
    "plt.xlabel('Alpha')\n",
    "plt.ylabel('Percentage Categorized Correctly')\n",
    "plt.title('Percent of Baroque and Romantic Pieces in the Test Dataset Categorized Correctly')"
   ]
  },
  {
   "cell_type": "code",
   "execution_count": 385,
   "id": "adjacent-gates",
   "metadata": {},
   "outputs": [],
   "source": [
    "idx = np.where(np.array([int(b) for b in b_correct]) == 100)\n"
   ]
  },
  {
   "cell_type": "code",
   "execution_count": 386,
   "id": "patent-welcome",
   "metadata": {},
   "outputs": [
    {
     "data": {
      "text/plain": [
       "array([0.011, 0.021, 0.031, 0.041])"
      ]
     },
     "execution_count": 386,
     "metadata": {},
     "output_type": "execute_result"
    }
   ],
   "source": [
    "np.arange(0.001,1,0.01)[idx]"
   ]
  },
  {
   "cell_type": "code",
   "execution_count": 387,
   "id": "eleven-newport",
   "metadata": {
    "scrolled": true
   },
   "outputs": [],
   "source": [
    "b_correct = []\n",
    "for alpha in np.arange(1,100,1):\n",
    "    correct = 0\n",
    "    for b_file in b_test:\n",
    "        with HiddenPrints():\n",
    "            test = get_gram_counts(b_file, 2)\n",
    "            result = calculate_smoothed_likelihood(alpha,test, train_list_b[0], train_list_r[0])\n",
    "            if result == 'B':\n",
    "                correct += 1\n",
    "    b_correct.append(correct/len(b_test)*100)\n",
    "#     print(f'{correct/len(b_test)*100:.2f}% were predicted correctly')\n",
    "#     print(correct, len(b_test))"
   ]
  },
  {
   "cell_type": "code",
   "execution_count": 388,
   "id": "interstate-superior",
   "metadata": {},
   "outputs": [],
   "source": [
    "r_correct = []\n",
    "for alpha in np.arange(1,100,1):\n",
    "    correct = 0        \n",
    "    for r_file in r_test:\n",
    "        with HiddenPrints():\n",
    "            test = get_gram_counts(r_file, 2)\n",
    "            result = calculate_smoothed_likelihood(alpha,test, train_list_b[0], train_list_r[0])\n",
    "            if result == 'R':\n",
    "                correct += 1\n",
    "    r_correct.append(correct/len(r_test)*100)\n",
    "#     print(f'{correct/len(r_test)*100:.2f}% were predicted correctly')\n"
   ]
  },
  {
   "cell_type": "code",
   "execution_count": 389,
   "id": "capable-palestine",
   "metadata": {},
   "outputs": [
    {
     "data": {
      "text/plain": [
       "Text(0.5, 1.0, 'Percent of Baroque and Romantic Pieces in the Test Dataset Categorized Correctly')"
      ]
     },
     "execution_count": 389,
     "metadata": {},
     "output_type": "execute_result"
    },
    {
     "data": {
      "image/png": "[encoded data removed]",
      "text/plain": [
       "<Figure size 640x480 with 1 Axes>"
      ]
     },
     "metadata": {},
     "output_type": "display_data"
    }
   ],
   "source": [
    "import matplotlib.pyplot as plt\n",
    "\n",
    "plt.plot(np.arange(1,100,1), r_correct, label = 'Romantic')\n",
    "plt.plot(np.arange(1,100,1), b_correct, label = 'Baroque')\n",
    "plt.legend()\n",
    "plt.xlabel('Alpha')\n",
    "plt.ylabel('Percentage Categorized Correctly')\n",
    "plt.title('Percent of Baroque and Romantic Pieces in the Test Dataset Categorized Correctly')"
   ]
  },
  {
   "cell_type": "code",
   "execution_count": 390,
   "id": "alpha-enforcement",
   "metadata": {},
   "outputs": [
    {
     "data": {
      "text/plain": [
       "array([ 2,  3,  4,  5,  6,  7,  8,  9, 10, 11, 12, 13, 14, 15, 16, 17, 18,\n",
       "       19, 20, 21, 22, 23, 24, 25, 26, 27, 28, 29, 30, 31, 32, 33, 34, 35,\n",
       "       36, 37, 38, 39, 40, 41, 42, 43, 44, 45, 46, 47, 48, 49, 50, 51, 52,\n",
       "       53, 54, 55, 56, 57, 58, 59, 60, 61, 62, 63, 64, 65, 66, 67, 68, 69,\n",
       "       70, 71, 72, 73, 74, 75, 76, 77, 78, 79, 80, 81, 82, 83, 84, 85, 86,\n",
       "       87, 88, 89, 90, 91, 92, 93, 94, 95, 96, 97, 98, 99])"
      ]
     },
     "execution_count": 390,
     "metadata": {},
     "output_type": "execute_result"
    }
   ],
   "source": [
    "idx = np.where(np.array([int(b) for b in b_correct]) == 100)\n",
    "np.arange(1,100,1)[idx]"
   ]
  },
  {
   "cell_type": "code",
   "execution_count": 391,
   "id": "emotional-distance",
   "metadata": {},
   "outputs": [
    {
     "data": {
      "text/plain": [
       "array([15, 16, 17, 18, 19, 20, 21, 22, 23, 24, 25, 26, 27, 28, 29, 30, 31,\n",
       "       32, 33, 34, 35, 36, 37, 38, 39, 40, 41, 42, 43, 44, 45, 46, 47, 48,\n",
       "       49, 50, 51, 52, 53, 54, 55, 56, 57, 58, 59, 60, 61, 62, 63, 64, 65,\n",
       "       66, 67, 68, 69, 70, 71, 72, 73, 74, 75, 76, 77, 78, 79, 80, 81, 82,\n",
       "       83, 84, 85, 86, 87, 88, 89, 90, 91, 92, 93, 94, 95, 96, 97, 98, 99])"
      ]
     },
     "execution_count": 391,
     "metadata": {},
     "output_type": "execute_result"
    }
   ],
   "source": [
    "idx = np.where(np.array([int(r) for r in r_correct]) < 90)\n",
    "np.arange(1,100,1)[idx]"
   ]
  },
  {
   "cell_type": "code",
   "execution_count": 392,
   "id": "caring-interview",
   "metadata": {},
   "outputs": [
    {
     "data": {
      "text/plain": [
       "['MIDI PERIOD CLASSIFICATION/Baroque/bwv1002e_solo.mid',\n",
       " 'MIDI PERIOD CLASSIFICATION/Baroque/bwv1002b_solo.mid',\n",
       " 'MIDI PERIOD CLASSIFICATION/Baroque/bwv1001d_solo.mid',\n",
       " 'MIDI PERIOD CLASSIFICATION/Baroque/bwv1044_1_solo.mid',\n",
       " 'MIDI PERIOD CLASSIFICATION/Baroque/bwv1041_1_solo.mid',\n",
       " 'MIDI PERIOD CLASSIFICATION/Baroque/v_concerto_solo.mid',\n",
       " 'MIDI PERIOD CLASSIFICATION/Baroque/bwv1044_2_solo.mid',\n",
       " 'MIDI PERIOD CLASSIFICATION/Baroque/bwv1041_2_solo.mid',\n",
       " 'MIDI PERIOD CLASSIFICATION/Baroque/bwv1002g_solo.mid',\n",
       " 'MIDI PERIOD CLASSIFICATION/Baroque/HWV322c_solo.mid',\n",
       " 'MIDI PERIOD CLASSIFICATION/Baroque/HWV322b_solo.mid',\n",
       " 'MIDI PERIOD CLASSIFICATION/Baroque/bwv1002f_solo.mid',\n",
       " 'MIDI PERIOD CLASSIFICATION/Baroque/bwv1003_4_solo.mid',\n",
       " 'MIDI PERIOD CLASSIFICATION/Baroque/bwv1001a_solo.mid',\n",
       " 'MIDI PERIOD CLASSIFICATION/Baroque/bwv1002h_solo.mid']"
      ]
     },
     "execution_count": 392,
     "metadata": {},
     "output_type": "execute_result"
    }
   ],
   "source": [
    "b_test"
   ]
  },
  {
   "cell_type": "code",
   "execution_count": 393,
   "id": "conceptual-patent",
   "metadata": {},
   "outputs": [
    {
     "data": {
      "text/plain": [
       "['MIDI PERIOD CLASSIFICATION/Romantic/mazurka33-3_solo.mid',\n",
       " 'MIDI PERIOD CLASSIFICATION/Romantic/mazurka68-2_solo.mid',\n",
       " 'MIDI PERIOD CLASSIFICATION/Romantic/paganini_18_solo.mid',\n",
       " 'MIDI PERIOD CLASSIFICATION/Romantic/Capriccio7_solo.mid',\n",
       " 'MIDI PERIOD CLASSIFICATION/Romantic/Capriccio5_solo.mid',\n",
       " 'MIDI PERIOD CLASSIFICATION/Romantic/mazurka56-2_solo.mid',\n",
       " 'MIDI PERIOD CLASSIFICATION/Romantic/mazurka07-2_solo.mid',\n",
       " 'MIDI PERIOD CLASSIFICATION/Romantic/waltz69-2_solo.mid',\n",
       " 'MIDI PERIOD CLASSIFICATION/Romantic/trio2_solo.mid',\n",
       " 'MIDI PERIOD CLASSIFICATION/Romantic/mazurka07-5_solo.mid',\n",
       " 'MIDI PERIOD CLASSIFICATION/Romantic/paganini_11_solo.mid',\n",
       " 'MIDI PERIOD CLASSIFICATION/Romantic/trio1_solo.mid',\n",
       " 'MIDI PERIOD CLASSIFICATION/Romantic/mazurka67-4_solo.mid']"
      ]
     },
     "execution_count": 393,
     "metadata": {},
     "output_type": "execute_result"
    }
   ],
   "source": [
    "r_test"
   ]
  },
  {
   "cell_type": "markdown",
   "id": "adaptive-inside",
   "metadata": {},
   "source": [
    "# Vary Train-test Sets"
   ]
  },
  {
   "cell_type": "code",
   "execution_count": 394,
   "id": "duplicate-dimension",
   "metadata": {},
   "outputs": [],
   "source": [
    "import os\n",
    "from os import listdir\n",
    "from os.path import isfile, join\n",
    "\n",
    "mypath_b = 'MIDI PERIOD CLASSIFICATION/Baroque/'\n",
    "b_files = [mypath_b+f for f in listdir(mypath_b) if (isfile(join(mypath_b, f))) and (f != '.DS_Store') and ('split' not in f)]\n",
    "\n",
    "mypath_r = 'MIDI PERIOD CLASSIFICATION/Romantic/'\n",
    "r_files = [mypath_r+f for f in listdir(mypath_r) if (isfile(join(mypath_r, f))) and (f != '.DS_Store') and ('split' not in f)]\n",
    "\n",
    "b_files.sort()\n",
    "r_files.sort()"
   ]
  },
  {
   "cell_type": "code",
   "execution_count": 395,
   "id": "neither-sherman",
   "metadata": {},
   "outputs": [
    {
     "name": "stdout",
     "output_type": "stream",
     "text": [
      "100\n",
      "101\n",
      "102\n",
      "103\n",
      "104\n",
      "105\n",
      "106\n",
      "107\n",
      "108\n",
      "109\n",
      "110\n",
      "111\n",
      "112\n",
      "113\n",
      "114\n",
      "115\n",
      "116\n",
      "117\n",
      "118\n",
      "119\n"
     ]
    }
   ],
   "source": [
    "# rs is random state\n",
    "\n",
    "romantic_accuracy = []\n",
    "baroque_accuracy = []\n",
    "overall_accuracy = []\n",
    "\n",
    "\n",
    "for rs in np.arange(100,120):\n",
    "    print(rs)\n",
    "    with HiddenPrints():\n",
    "        b_train, b_test = train_test_split(b_files, test_size=0.4, shuffle = True, random_state = rs)\n",
    "\n",
    "        r_train, r_test = train_test_split(r_files, test_size=0.4, shuffle = True, random_state = rs)\n",
    "\n",
    "        # train Baroque\n",
    "\n",
    "        train_list_b = []\n",
    "\n",
    "        for b_file in b_train:\n",
    "            train_list_b.append(get_gram_counts(b_file,2))\n",
    "\n",
    "        for train_piece in train_list_b[1:]:\n",
    "            for key, value in train_piece.items():\n",
    "                for subkey, subvalue in value.items():\n",
    "                    train_list_b[0][key][subkey] = subvalue + train_list_b[0][key][subkey]\n",
    "\n",
    "        # train Romantic\n",
    "\n",
    "        train_list_r = []\n",
    "\n",
    "        for r_file in r_train:\n",
    "            train_list_r.append(get_gram_counts(r_file,2))\n",
    "\n",
    "        for train_piece in train_list_r[1:]:\n",
    "            for key, value in train_piece.items():\n",
    "                for subkey, subvalue in value.items():\n",
    "                    train_list_r[0][key][subkey] = subvalue + train_list_r[0][key][subkey]\n",
    "\n",
    "\n",
    "        # Predict Baroque\n",
    "        correct1 = 0\n",
    "        for b_file in b_test:\n",
    "            test = get_gram_counts(b_file, 2)\n",
    "            result = calculate_smoothed_likelihood(1,test, train_list_b[0], train_list_r[0])\n",
    "            if result == 'B':\n",
    "                correct1 += 1\n",
    "\n",
    "        baroque_accuracy.append(correct1/len(b_test)*100)\n",
    "\n",
    "        # Predict Romantic\n",
    "        correct2 = 0\n",
    "        for r_file in r_test:\n",
    "            test = get_gram_counts(r_file, 2)\n",
    "            result = calculate_smoothed_likelihood(1,test, train_list_b[0], train_list_r[0])\n",
    "            if result == 'R':\n",
    "                correct2 += 1\n",
    "\n",
    "        romantic_accuracy.append(correct2/len(r_test)*100)\n",
    "\n",
    "        overall_accuracy.append((correct1+correct2)/(28)*100)"
   ]
  },
  {
   "cell_type": "code",
   "execution_count": 396,
   "id": "removable-moscow",
   "metadata": {},
   "outputs": [
    {
     "data": {
      "text/plain": [
       "[69.23076923076923,\n",
       " 76.92307692307693,\n",
       " 76.92307692307693,\n",
       " 92.3076923076923,\n",
       " 100.0,\n",
       " 92.3076923076923,\n",
       " 76.92307692307693,\n",
       " 92.3076923076923,\n",
       " 76.92307692307693,\n",
       " 84.61538461538461,\n",
       " 92.3076923076923,\n",
       " 84.61538461538461,\n",
       " 69.23076923076923,\n",
       " 84.61538461538461,\n",
       " 92.3076923076923,\n",
       " 46.15384615384615,\n",
       " 92.3076923076923,\n",
       " 84.61538461538461,\n",
       " 84.61538461538461,\n",
       " 84.61538461538461]"
      ]
     },
     "execution_count": 396,
     "metadata": {},
     "output_type": "execute_result"
    }
   ],
   "source": [
    "romantic_accuracy"
   ]
  },
  {
   "cell_type": "code",
   "execution_count": 397,
   "id": "healthy-messaging",
   "metadata": {
    "scrolled": true
   },
   "outputs": [
    {
     "data": {
      "text/plain": [
       "[100.0,\n",
       " 100.0,\n",
       " 80.0,\n",
       " 93.33333333333333,\n",
       " 100.0,\n",
       " 86.66666666666667,\n",
       " 100.0,\n",
       " 93.33333333333333,\n",
       " 73.33333333333333,\n",
       " 100.0,\n",
       " 93.33333333333333,\n",
       " 93.33333333333333,\n",
       " 100.0,\n",
       " 93.33333333333333,\n",
       " 93.33333333333333,\n",
       " 100.0,\n",
       " 100.0,\n",
       " 100.0,\n",
       " 80.0,\n",
       " 100.0]"
      ]
     },
     "execution_count": 397,
     "metadata": {},
     "output_type": "execute_result"
    }
   ],
   "source": [
    "baroque_accuracy"
   ]
  },
  {
   "cell_type": "code",
   "execution_count": 398,
   "id": "sophisticated-wednesday",
   "metadata": {},
   "outputs": [],
   "source": [
    "import pandas as pd\n",
    "df = pd.DataFrame({'Random State':np.arange(100,120), 'Overall Accuracy': overall_accuracy,\n",
    "                   'Baroque Accuracy':baroque_accuracy, 'Romantic Accuracy':romantic_accuracy})\n",
    "\n"
   ]
  },
  {
   "cell_type": "code",
   "execution_count": 399,
   "id": "velvet-aside",
   "metadata": {},
   "outputs": [
    {
     "data": {
      "text/plain": [
       "Text(0, 0.5, 'Test Accuracy Score')"
      ]
     },
     "execution_count": 399,
     "metadata": {},
     "output_type": "execute_result"
    },
    {
     "data": {
      "image/png": "[encoded data removed]",
      "text/plain": [
       "<Figure size 640x480 with 1 Axes>"
      ]
     },
     "metadata": {},
     "output_type": "display_data"
    }
   ],
   "source": [
    "import matplotlib\n",
    "matplotlib.rc_file_defaults()\n",
    "\n",
    "plt.boxplot([overall_accuracy, baroque_accuracy, romantic_accuracy], labels = ['Overall Accuracy', 'Baroque Accuracy', 'Romantic Accuracy'], patch_artist=True);\n",
    "matplotlib.pyplot.grid(axis='both')\n",
    "plt.title('Test Accuracy Scores Given Different Train-Test Splits')\n",
    "plt.ylabel('Test Accuracy Score')"
   ]
  },
  {
   "cell_type": "markdown",
   "id": "level-painting",
   "metadata": {},
   "source": [
    "**means and standard deviations:**"
   ]
  },
  {
   "cell_type": "code",
   "execution_count": 400,
   "id": "level-pillow",
   "metadata": {},
   "outputs": [
    {
     "data": {
      "text/plain": [
       "94.0"
      ]
     },
     "execution_count": 400,
     "metadata": {},
     "output_type": "execute_result"
    }
   ],
   "source": [
    "np.mean(baroque_accuracy)"
   ]
  },
  {
   "cell_type": "code",
   "execution_count": 401,
   "id": "arabic-opinion",
   "metadata": {},
   "outputs": [
    {
     "data": {
      "text/plain": [
       "7.859884081701065"
      ]
     },
     "execution_count": 401,
     "metadata": {},
     "output_type": "execute_result"
    }
   ],
   "source": [
    "np.std(baroque_accuracy)"
   ]
  },
  {
   "cell_type": "code",
   "execution_count": 402,
   "id": "passing-hearts",
   "metadata": {},
   "outputs": [
    {
     "data": {
      "text/plain": [
       "82.69230769230768"
      ]
     },
     "execution_count": 402,
     "metadata": {},
     "output_type": "execute_result"
    }
   ],
   "source": [
    "np.mean(romantic_accuracy)"
   ]
  },
  {
   "cell_type": "code",
   "execution_count": 403,
   "id": "central-albert",
   "metadata": {},
   "outputs": [
    {
     "data": {
      "text/plain": [
       "11.634218047887826"
      ]
     },
     "execution_count": 403,
     "metadata": {},
     "output_type": "execute_result"
    }
   ],
   "source": [
    "np.std(romantic_accuracy)"
   ]
  },
  {
   "cell_type": "code",
   "execution_count": 404,
   "id": "absolute-chapter",
   "metadata": {},
   "outputs": [
    {
     "data": {
      "text/plain": [
       "88.75"
      ]
     },
     "execution_count": 404,
     "metadata": {},
     "output_type": "execute_result"
    }
   ],
   "source": [
    "np.mean(overall_accuracy)"
   ]
  },
  {
   "cell_type": "code",
   "execution_count": 405,
   "id": "fantastic-roman",
   "metadata": {},
   "outputs": [
    {
     "data": {
      "text/plain": [
       "6.514798695340966"
      ]
     },
     "execution_count": 405,
     "metadata": {},
     "output_type": "execute_result"
    }
   ],
   "source": [
    "np.std(overall_accuracy)"
   ]
  }
 ],
 "metadata": {
  "kernelspec": {
   "display_name": "Python 3",
   "language": "python",
   "name": "python3"
  },
  "language_info": {
   "codemirror_mode": {
    "name": "ipython",
    "version": 3
   },
   "file_extension": ".py",
   "mimetype": "text/x-python",
   "name": "python",
   "nbconvert_exporter": "python",
   "pygments_lexer": "ipython3",
   "version": "3.8.6"
  }
 },
 "nbformat": 4,
 "nbformat_minor": 5
}
